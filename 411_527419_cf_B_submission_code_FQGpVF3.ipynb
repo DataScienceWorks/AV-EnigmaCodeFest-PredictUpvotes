{
 "cells": [
  {
   "cell_type": "markdown",
   "metadata": {},
   "source": [
    "# Best Question Author Prediction - Enigma CodeFest - Analytics Vidya\n",
    "\n",
    "## Problem Statement\n",
    "* An online QnA platform has hired you as a data scientist to **identify the best questioning authors** on the platform. \n",
    "* Why? This identification will bring more insight into increasing the user engagement. \n",
    "* How? Given the tag of the question, number of views received, number of answers, username and reputation of the question author, the problem requires you to **predict the upvote count that the question will receive**.\n",
    "\n",
    "## Data Dictionary\n",
    "\n",
    "  | Variable    | Definition                                        |                             \n",
    "  |-------------|---------------------------------------------------|\n",
    "  | ID        \t| Question ID                                       |                            \n",
    "  | Tag       \t| Anonymised tags representing question category    | \n",
    "  | Reputation\t| Reputation score of question author               |      \n",
    "  | Answers   \t| Number of times question has been answered        | \n",
    "  | Username  \t| Anonymised user id of question author             |    \n",
    "  | Views     \t| Number of times question has been viewed          | \n",
    "  | Upvotes   \t| (Target) Number of upvotes for the question       | \n",
    "\n",
    "## Evaluation Metric\n",
    "\n",
    "The evaluation metric for this competition is RMSE (root mean squared error)\n",
    "\n",
    "## Tags\n",
    "\n",
    "**Regression**"
   ]
  },
  {
   "cell_type": "code",
   "execution_count": 1,
   "metadata": {},
   "outputs": [
    {
     "name": "stderr",
     "output_type": "stream",
     "text": [
      "C:\\Anaconda3\\envs\\py36\\lib\\site-packages\\sklearn\\ensemble\\weight_boosting.py:29: DeprecationWarning: numpy.core.umath_tests is an internal NumPy module and should not be imported. It will be removed in a future NumPy release.\n",
      "  from numpy.core.umath_tests import inner1d\n"
     ]
    }
   ],
   "source": [
    "%matplotlib inline\n",
    "import matplotlib.pyplot as plt\n",
    "import pandas as pd\n",
    "import numpy as np\n",
    "import seaborn as sns\n",
    "\n",
    "from sklearn.preprocessing import LabelEncoder, OneHotEncoder, StandardScaler, FunctionTransformer\n",
    "from sklearn.pipeline import Pipeline, make_pipeline, FeatureUnion, make_union\n",
    "from sklearn.model_selection import train_test_split, GridSearchCV\n",
    "from sklearn.linear_model import LinearRegression, SGDRegressor\n",
    "from sklearn.ensemble import BaggingRegressor, GradientBoostingRegressor\n",
    "from sklearn.tree import DecisionTreeRegressor"
   ]
  },
  {
   "cell_type": "code",
   "execution_count": 2,
   "metadata": {},
   "outputs": [],
   "source": [
    "sns.set_style('whitegrid')"
   ]
  },
  {
   "cell_type": "markdown",
   "metadata": {},
   "source": [
    "## Load Data"
   ]
  },
  {
   "cell_type": "code",
   "execution_count": 3,
   "metadata": {},
   "outputs": [
    {
     "name": "stdout",
     "output_type": "stream",
     "text": [
      "Train Data Size : (330045, 6)\n"
     ]
    },
    {
     "data": {
      "text/html": [
       "<div>\n",
       "<style scoped>\n",
       "    .dataframe tbody tr th:only-of-type {\n",
       "        vertical-align: middle;\n",
       "    }\n",
       "\n",
       "    .dataframe tbody tr th {\n",
       "        vertical-align: top;\n",
       "    }\n",
       "\n",
       "    .dataframe thead th {\n",
       "        text-align: right;\n",
       "    }\n",
       "</style>\n",
       "<table border=\"1\" class=\"dataframe\">\n",
       "  <thead>\n",
       "    <tr style=\"text-align: right;\">\n",
       "      <th></th>\n",
       "      <th>Tag</th>\n",
       "      <th>Reputation</th>\n",
       "      <th>Answers</th>\n",
       "      <th>Username</th>\n",
       "      <th>Views</th>\n",
       "      <th>Upvotes</th>\n",
       "    </tr>\n",
       "    <tr>\n",
       "      <th>ID</th>\n",
       "      <th></th>\n",
       "      <th></th>\n",
       "      <th></th>\n",
       "      <th></th>\n",
       "      <th></th>\n",
       "      <th></th>\n",
       "    </tr>\n",
       "  </thead>\n",
       "  <tbody>\n",
       "    <tr>\n",
       "      <th>52664</th>\n",
       "      <td>a</td>\n",
       "      <td>3942.0</td>\n",
       "      <td>2.0</td>\n",
       "      <td>155623</td>\n",
       "      <td>7855.0</td>\n",
       "      <td>42.0</td>\n",
       "    </tr>\n",
       "    <tr>\n",
       "      <th>327662</th>\n",
       "      <td>a</td>\n",
       "      <td>26046.0</td>\n",
       "      <td>12.0</td>\n",
       "      <td>21781</td>\n",
       "      <td>55801.0</td>\n",
       "      <td>1175.0</td>\n",
       "    </tr>\n",
       "    <tr>\n",
       "      <th>468453</th>\n",
       "      <td>c</td>\n",
       "      <td>1358.0</td>\n",
       "      <td>4.0</td>\n",
       "      <td>56177</td>\n",
       "      <td>8067.0</td>\n",
       "      <td>60.0</td>\n",
       "    </tr>\n",
       "    <tr>\n",
       "      <th>96996</th>\n",
       "      <td>a</td>\n",
       "      <td>264.0</td>\n",
       "      <td>3.0</td>\n",
       "      <td>168793</td>\n",
       "      <td>27064.0</td>\n",
       "      <td>9.0</td>\n",
       "    </tr>\n",
       "    <tr>\n",
       "      <th>131465</th>\n",
       "      <td>c</td>\n",
       "      <td>4271.0</td>\n",
       "      <td>4.0</td>\n",
       "      <td>112223</td>\n",
       "      <td>13986.0</td>\n",
       "      <td>83.0</td>\n",
       "    </tr>\n",
       "  </tbody>\n",
       "</table>\n",
       "</div>"
      ],
      "text/plain": [
       "       Tag  Reputation  Answers  Username    Views  Upvotes\n",
       "ID                                                         \n",
       "52664    a      3942.0      2.0    155623   7855.0     42.0\n",
       "327662   a     26046.0     12.0     21781  55801.0   1175.0\n",
       "468453   c      1358.0      4.0     56177   8067.0     60.0\n",
       "96996    a       264.0      3.0    168793  27064.0      9.0\n",
       "131465   c      4271.0      4.0    112223  13986.0     83.0"
      ]
     },
     "execution_count": 3,
     "metadata": {},
     "output_type": "execute_result"
    }
   ],
   "source": [
    "train = pd.read_csv('data/train_NIR5Yl1.csv', index_col='ID')\n",
    "print('Train Data Size :',train.shape)\n",
    "train.head()"
   ]
  },
  {
   "cell_type": "code",
   "execution_count": 4,
   "metadata": {},
   "outputs": [
    {
     "name": "stdout",
     "output_type": "stream",
     "text": [
      "Test Data Size : (141448, 5)\n"
     ]
    },
    {
     "data": {
      "text/html": [
       "<div>\n",
       "<style scoped>\n",
       "    .dataframe tbody tr th:only-of-type {\n",
       "        vertical-align: middle;\n",
       "    }\n",
       "\n",
       "    .dataframe tbody tr th {\n",
       "        vertical-align: top;\n",
       "    }\n",
       "\n",
       "    .dataframe thead th {\n",
       "        text-align: right;\n",
       "    }\n",
       "</style>\n",
       "<table border=\"1\" class=\"dataframe\">\n",
       "  <thead>\n",
       "    <tr style=\"text-align: right;\">\n",
       "      <th></th>\n",
       "      <th>Tag</th>\n",
       "      <th>Reputation</th>\n",
       "      <th>Answers</th>\n",
       "      <th>Username</th>\n",
       "      <th>Views</th>\n",
       "    </tr>\n",
       "    <tr>\n",
       "      <th>ID</th>\n",
       "      <th></th>\n",
       "      <th></th>\n",
       "      <th></th>\n",
       "      <th></th>\n",
       "      <th></th>\n",
       "    </tr>\n",
       "  </thead>\n",
       "  <tbody>\n",
       "    <tr>\n",
       "      <th>366953</th>\n",
       "      <td>a</td>\n",
       "      <td>5645.0</td>\n",
       "      <td>3.0</td>\n",
       "      <td>50652</td>\n",
       "      <td>33200.0</td>\n",
       "    </tr>\n",
       "    <tr>\n",
       "      <th>71864</th>\n",
       "      <td>c</td>\n",
       "      <td>24511.0</td>\n",
       "      <td>6.0</td>\n",
       "      <td>37685</td>\n",
       "      <td>2730.0</td>\n",
       "    </tr>\n",
       "    <tr>\n",
       "      <th>141692</th>\n",
       "      <td>i</td>\n",
       "      <td>927.0</td>\n",
       "      <td>1.0</td>\n",
       "      <td>135293</td>\n",
       "      <td>21167.0</td>\n",
       "    </tr>\n",
       "    <tr>\n",
       "      <th>316833</th>\n",
       "      <td>i</td>\n",
       "      <td>21.0</td>\n",
       "      <td>6.0</td>\n",
       "      <td>166998</td>\n",
       "      <td>18528.0</td>\n",
       "    </tr>\n",
       "    <tr>\n",
       "      <th>440445</th>\n",
       "      <td>i</td>\n",
       "      <td>4475.0</td>\n",
       "      <td>10.0</td>\n",
       "      <td>53504</td>\n",
       "      <td>57240.0</td>\n",
       "    </tr>\n",
       "  </tbody>\n",
       "</table>\n",
       "</div>"
      ],
      "text/plain": [
       "       Tag  Reputation  Answers  Username    Views\n",
       "ID                                                \n",
       "366953   a      5645.0      3.0     50652  33200.0\n",
       "71864    c     24511.0      6.0     37685   2730.0\n",
       "141692   i       927.0      1.0    135293  21167.0\n",
       "316833   i        21.0      6.0    166998  18528.0\n",
       "440445   i      4475.0     10.0     53504  57240.0"
      ]
     },
     "execution_count": 4,
     "metadata": {},
     "output_type": "execute_result"
    }
   ],
   "source": [
    "test = pd.read_csv('data/test_8i3B3FC.csv', index_col='ID')\n",
    "print('Test Data Size :',test.shape)\n",
    "test.head()"
   ]
  },
  {
   "cell_type": "markdown",
   "metadata": {},
   "source": [
    "## Pre-process Train Data"
   ]
  },
  {
   "cell_type": "code",
   "execution_count": 5,
   "metadata": {},
   "outputs": [
    {
     "name": "stdout",
     "output_type": "stream",
     "text": [
      "       Tag  Reputation  Answers  Username    Views\n",
      "ID                                                \n",
      "52664    a      3942.0      2.0    155623   7855.0\n",
      "327662   a     26046.0     12.0     21781  55801.0\n",
      "468453   c      1358.0      4.0     56177   8067.0\n",
      "96996    a       264.0      3.0    168793  27064.0\n",
      "131465   c      4271.0      4.0    112223  13986.0 \n",
      "\n",
      "\n",
      " ID\n",
      "52664       42.0\n",
      "327662    1175.0\n",
      "468453      60.0\n",
      "96996        9.0\n",
      "131465      83.0\n",
      "Name: Upvotes, dtype: float64\n"
     ]
    }
   ],
   "source": [
    "ytrain = train.pop('Upvotes')\n",
    "xtrain = train\n",
    "train = None\n",
    "print(xtrain.head(), '\\n\\n\\n', ytrain.head())"
   ]
  },
  {
   "cell_type": "code",
   "execution_count": 6,
   "metadata": {},
   "outputs": [],
   "source": [
    "# xtrain = xtrain.drop(columns=['Username'])\n",
    "# xtrain.head(3)"
   ]
  },
  {
   "cell_type": "code",
   "execution_count": 7,
   "metadata": {},
   "outputs": [],
   "source": [
    "# test = test.drop(columns=['Username'])\n",
    "# test.head(3)"
   ]
  },
  {
   "cell_type": "code",
   "execution_count": 8,
   "metadata": {},
   "outputs": [
    {
     "name": "stdout",
     "output_type": "stream",
     "text": [
      "<class 'pandas.core.frame.DataFrame'>\n",
      "Int64Index: 330045 entries, 52664 to 300553\n",
      "Data columns (total 5 columns):\n",
      "Tag           330045 non-null object\n",
      "Reputation    330045 non-null int32\n",
      "Answers       330045 non-null int32\n",
      "Username      330045 non-null int32\n",
      "Views         330045 non-null int32\n",
      "dtypes: int32(4), object(1)\n",
      "memory usage: 10.1+ MB\n",
      "None\n"
     ]
    }
   ],
   "source": [
    "xtrain.Reputation = xtrain.Reputation.astype(int)\n",
    "xtrain.Answers = xtrain.Answers.astype(int)\n",
    "xtrain.Views = xtrain.Views.astype(int)\n",
    "xtrain.Username = xtrain.Username.astype(int)\n",
    "print(xtrain.info())"
   ]
  },
  {
   "cell_type": "code",
   "execution_count": 9,
   "metadata": {},
   "outputs": [
    {
     "name": "stdout",
     "output_type": "stream",
     "text": [
      "<class 'pandas.core.frame.DataFrame'>\n",
      "Int64Index: 141448 entries, 366953 to 107271\n",
      "Data columns (total 5 columns):\n",
      "Tag           141448 non-null object\n",
      "Reputation    141448 non-null int32\n",
      "Answers       141448 non-null int32\n",
      "Username      141448 non-null int32\n",
      "Views         141448 non-null int32\n",
      "dtypes: int32(4), object(1)\n",
      "memory usage: 4.3+ MB\n"
     ]
    }
   ],
   "source": [
    "test.Reputation = test.Reputation.astype(int)\n",
    "test.Answers = test.Answers.astype(int)\n",
    "test.Views = test.Views.astype(int)\n",
    "test.Username = test.Username.astype(int)\n",
    "test.info()"
   ]
  },
  {
   "cell_type": "code",
   "execution_count": 10,
   "metadata": {},
   "outputs": [
    {
     "name": "stdout",
     "output_type": "stream",
     "text": [
      "<class 'pandas.core.frame.DataFrame'>\n",
      "Int64Index: 330045 entries, 52664 to 300553\n",
      "Data columns (total 5 columns):\n",
      "Tag           330045 non-null category\n",
      "Reputation    330045 non-null int32\n",
      "Answers       330045 non-null int32\n",
      "Username      330045 non-null int32\n",
      "Views         330045 non-null int32\n",
      "dtypes: category(1), int32(4)\n",
      "memory usage: 7.9 MB\n"
     ]
    }
   ],
   "source": [
    "xtrain.Tag = xtrain.Tag.astype('category')\n",
    "xtrain.info()"
   ]
  },
  {
   "cell_type": "code",
   "execution_count": 11,
   "metadata": {},
   "outputs": [
    {
     "name": "stdout",
     "output_type": "stream",
     "text": [
      "<class 'pandas.core.frame.DataFrame'>\n",
      "Int64Index: 141448 entries, 366953 to 107271\n",
      "Data columns (total 5 columns):\n",
      "Tag           141448 non-null category\n",
      "Reputation    141448 non-null int32\n",
      "Answers       141448 non-null int32\n",
      "Username      141448 non-null int32\n",
      "Views         141448 non-null int32\n",
      "dtypes: category(1), int32(4)\n",
      "memory usage: 3.4 MB\n"
     ]
    }
   ],
   "source": [
    "test.Tag = test.Tag.astype('category')\n",
    "test.info()"
   ]
  },
  {
   "cell_type": "code",
   "execution_count": 12,
   "metadata": {},
   "outputs": [],
   "source": [
    "class ModifiedLabelEncoder(LabelEncoder):\n",
    "\n",
    "    def fit_transform(self, y, *args, **kwargs):\n",
    "        return super().fit_transform(y).reshape(-1, 1)\n",
    "\n",
    "    def transform(self, y, *args, **kwargs):\n",
    "        return super().transform(y).reshape(-1, 1)"
   ]
  },
  {
   "cell_type": "code",
   "execution_count": 13,
   "metadata": {},
   "outputs": [],
   "source": [
    "from sklearn.base import BaseEstimator, TransformerMixin\n",
    "\n",
    "class ColumnSelector(BaseEstimator, TransformerMixin):\n",
    "    def __init__(self, columns=None):\n",
    "        self.columns = columns\n",
    "    \n",
    "    def fit (self, X, y=None, **fit_params):\n",
    "        return self\n",
    "    \n",
    "    def transform(self, X):\n",
    "        assert isinstance(X, pd.DataFrame)\n",
    "        try:\n",
    "            return X[self.columns]\n",
    "        except KeyError:\n",
    "            cols_error = list(set(self.columns) - set(X.columns))\n",
    "            raise KeyError(\"The DataFrame does not include the columns: %s\" % cols_error)\n",
    "\n",
    "numeric_cols = ['Reputation', 'Answers', 'Username', 'Views'] # list of numeric column names\n",
    "# numeric_cols = ['Reputation', 'Answers', 'Views']\n",
    "categorical_cols = ['Tag'] # list of categorical column names"
   ]
  },
  {
   "cell_type": "code",
   "execution_count": 14,
   "metadata": {},
   "outputs": [
    {
     "name": "stderr",
     "output_type": "stream",
     "text": [
      "C:\\Anaconda3\\envs\\py36\\lib\\site-packages\\sklearn\\preprocessing\\label.py:111: DataConversionWarning: A column-vector y was passed when a 1d array was expected. Please change the shape of y to (n_samples, ), for example using ravel().\n",
      "  y = column_or_1d(y, warn=True)\n"
     ]
    },
    {
     "name": "stdout",
     "output_type": "stream",
     "text": [
      "(330045, 14)\n",
      "[[-0.14157253 -0.53573597  1.5072655  -0.26915833  1.          0.\n",
      "   0.          0.          0.          0.          0.          0.\n",
      "   0.          0.        ]\n",
      " [ 0.67523751  2.25794312 -1.21226978  0.32308687  1.          0.\n",
      "   0.          0.          0.          0.          0.          0.\n",
      "   0.          0.        ]\n",
      " [-0.23705919  0.02299985 -0.51337753 -0.26653963  0.          1.\n",
      "   0.          0.          0.          0.          0.          0.\n",
      "   0.          0.        ]\n",
      " [-0.27748582 -0.25636806  1.7748667  -0.03188227  1.          0.\n",
      "   0.          0.          0.          0.          0.          0.\n",
      "   0.          0.        ]\n",
      " [-0.12941498  0.02299985  0.62542101 -0.19342614  0.          1.\n",
      "   0.          0.          0.          0.          0.          0.\n",
      "   0.          0.        ]]\n"
     ]
    }
   ],
   "source": [
    "numeric_cols_pipe = make_pipeline(ColumnSelector(columns=numeric_cols),StandardScaler())\n",
    "categorical_cols_pipe = make_pipeline(ColumnSelector(columns=categorical_cols), ModifiedLabelEncoder(), OneHotEncoder(sparse=False))\n",
    "fu = make_union(numeric_cols_pipe, categorical_cols_pipe)\n",
    "\n",
    "trans_vec = fu.fit_transform(xtrain)\n",
    "print(trans_vec.shape)\n",
    "print(trans_vec[:5])"
   ]
  },
  {
   "cell_type": "code",
   "execution_count": 15,
   "metadata": {},
   "outputs": [],
   "source": [
    "# Split train data-set\n",
    "# x_train, x_test, y_train, y_test = train_test_split(trans_vec, ytrain.values, train_size = 0.75, random_state = 42)"
   ]
  },
  {
   "cell_type": "code",
   "execution_count": 16,
   "metadata": {},
   "outputs": [
    {
     "name": "stderr",
     "output_type": "stream",
     "text": [
      "C:\\Anaconda3\\envs\\py36\\lib\\site-packages\\sklearn\\preprocessing\\label.py:128: DataConversionWarning: A column-vector y was passed when a 1d array was expected. Please change the shape of y to (n_samples, ), for example using ravel().\n",
      "  y = column_or_1d(y, warn=True)\n"
     ]
    },
    {
     "data": {
      "text/plain": [
       "(141448, 14)"
      ]
     },
     "execution_count": 16,
     "metadata": {},
     "output_type": "execute_result"
    }
   ],
   "source": [
    "test_fu = fu.transform(test)\n",
    "test_fu.shape"
   ]
  },
  {
   "cell_type": "code",
   "execution_count": 17,
   "metadata": {},
   "outputs": [],
   "source": [
    "def conv2df(preds):\n",
    "    df = pd.DataFrame(data={\n",
    "        'ID': test.index.values,\n",
    "        'Upvotes': preds\n",
    "    })\n",
    "    df['Upvotes'] = df.Upvotes.astype(int)\n",
    "    return df"
   ]
  },
  {
   "cell_type": "code",
   "execution_count": 18,
   "metadata": {},
   "outputs": [
    {
     "data": {
      "text/plain": [
       "\"\\ndtr = DecisionTreeRegressor(random_state=42)\\nbr = BaggingRegressor(dtr, n_jobs=-1, random_state=42)\\nparams = {\\n    'n_estimators': [50], #[50, 100, 150], #[25,30,50],\\n    'max_samples': [.7],\\n    'max_features': [1.0],\\n}\\ngsv = GridSearchCV(br, params, cv=3, verbose=1, n_jobs=-1)\\ngsv.fit(trans_vec, ytrain.values)\\npreds = gsv.predict(test_fu)\\nconv2df(preds).to_csv('data/output/bagging_regressor.csv', index=False)\\n\""
      ]
     },
     "execution_count": 18,
     "metadata": {},
     "output_type": "execute_result"
    }
   ],
   "source": [
    "'''\n",
    "dtr = DecisionTreeRegressor(random_state=42)\n",
    "br = BaggingRegressor(dtr, n_jobs=-1, random_state=42)\n",
    "params = {\n",
    "    'n_estimators': [50], #[50, 100, 150], #[25,30,50],\n",
    "    'max_samples': [.7],\n",
    "    'max_features': [1.0],\n",
    "}\n",
    "gsv = GridSearchCV(br, params, cv=3, verbose=1, n_jobs=-1)\n",
    "gsv.fit(trans_vec, ytrain.values)\n",
    "preds = gsv.predict(test_fu)\n",
    "conv2df(preds).to_csv('data/output/bagging_regressor.csv', index=False)\n",
    "'''"
   ]
  },
  {
   "cell_type": "code",
   "execution_count": 19,
   "metadata": {},
   "outputs": [],
   "source": [
    "# print(gsv.best_params_)\n",
    "# gsv.best_estimator_"
   ]
  },
  {
   "cell_type": "code",
   "execution_count": 20,
   "metadata": {},
   "outputs": [],
   "source": [
    "dtr = DecisionTreeRegressor(random_state=42)\n",
    "br = BaggingRegressor(dtr, n_jobs=-1, random_state=42, n_estimators=50, max_samples=.7)\n",
    "br.fit(trans_vec, ytrain.values)\n",
    "preds = br.predict(test_fu)\n",
    "conv2df(preds).to_csv('data/output/bagging_regressor.csv', index=False)"
   ]
  }
 ],
 "metadata": {
  "kernelspec": {
   "display_name": "Python 3",
   "language": "python",
   "name": "python3"
  },
  "language_info": {
   "codemirror_mode": {
    "name": "ipython",
    "version": 3
   },
   "file_extension": ".py",
   "mimetype": "text/x-python",
   "name": "python",
   "nbconvert_exporter": "python",
   "pygments_lexer": "ipython3",
   "version": "3.6.6"
  }
 },
 "nbformat": 4,
 "nbformat_minor": 2
}
