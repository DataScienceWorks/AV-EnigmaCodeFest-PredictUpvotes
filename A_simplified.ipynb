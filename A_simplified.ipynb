{
 "cells": [
  {
   "cell_type": "markdown",
   "metadata": {},
   "source": [
    "# Best Question Author Prediction - Enigma CodeFest - Analytics Vidya\n",
    "\n",
    "## Problem Statement\n",
    "* An online QnA platform has hired you as a data scientist to **identify the best questioning authors** on the platform. \n",
    "* Why? This identification will bring more insight into increasing the user engagement. \n",
    "* How? Given the tag of the question, number of views received, number of answers, username and reputation of the question author, the problem requires you to **predict the upvote count that the question will receive**.\n",
    "\n",
    "## Data Dictionary\n",
    "\n",
    "  | Variable    | Definition                                        |                             \n",
    "  |-------------|---------------------------------------------------|\n",
    "  | ID        \t| Question ID                                       |                            \n",
    "  | Tag       \t| Anonymised tags representing question category    | \n",
    "  | Reputation\t| Reputation score of question author               |      \n",
    "  | Answers   \t| Number of times question has been answered        | \n",
    "  | Username  \t| Anonymised user id of question author             |    \n",
    "  | Views     \t| Number of times question has been viewed          | \n",
    "  | Upvotes   \t| (Target) Number of upvotes for the question       | \n",
    "\n",
    "## Evaluation Metric\n",
    "\n",
    "The evaluation metric for this competition is RMSE (root mean squared error)\n",
    "\n",
    "## Tags\n",
    "\n",
    "**Regression**"
   ]
  },
  {
   "cell_type": "code",
   "execution_count": 28,
   "metadata": {},
   "outputs": [],
   "source": [
    "%matplotlib inline\n",
    "import matplotlib.pyplot as plt\n",
    "import pandas as pd\n",
    "import numpy as np\n",
    "import seaborn as sns\n",
    "\n",
    "from sklearn.preprocessing import LabelEncoder, OneHotEncoder, StandardScaler, FunctionTransformer\n",
    "from sklearn.pipeline import Pipeline, make_pipeline, FeatureUnion, make_union\n",
    "from sklearn.decomposition import PCA\n",
    "\n",
    "from sklearn.model_selection import train_test_split, GridSearchCV\n",
    "from sklearn.linear_model import LinearRegression, SGDRegressor\n",
    "from sklearn.neighbors import KNeighborsRegressor\n",
    "from sklearn.ensemble import BaggingRegressor, GradientBoostingRegressor, AdaBoostRegressor, RandomForestRegressor, ExtraTreesRegressor\n",
    "from sklearn.tree import DecisionTreeRegressor"
   ]
  },
  {
   "cell_type": "code",
   "execution_count": 2,
   "metadata": {},
   "outputs": [],
   "source": [
    "sns.set_style('whitegrid')"
   ]
  },
  {
   "cell_type": "markdown",
   "metadata": {},
   "source": [
    "## Load Data"
   ]
  },
  {
   "cell_type": "code",
   "execution_count": 3,
   "metadata": {},
   "outputs": [
    {
     "name": "stdout",
     "output_type": "stream",
     "text": [
      "Train Data Size : (330045, 6)\n"
     ]
    },
    {
     "data": {
      "text/html": [
       "<div>\n",
       "<style scoped>\n",
       "    .dataframe tbody tr th:only-of-type {\n",
       "        vertical-align: middle;\n",
       "    }\n",
       "\n",
       "    .dataframe tbody tr th {\n",
       "        vertical-align: top;\n",
       "    }\n",
       "\n",
       "    .dataframe thead th {\n",
       "        text-align: right;\n",
       "    }\n",
       "</style>\n",
       "<table border=\"1\" class=\"dataframe\">\n",
       "  <thead>\n",
       "    <tr style=\"text-align: right;\">\n",
       "      <th></th>\n",
       "      <th>Tag</th>\n",
       "      <th>Reputation</th>\n",
       "      <th>Answers</th>\n",
       "      <th>Username</th>\n",
       "      <th>Views</th>\n",
       "      <th>Upvotes</th>\n",
       "    </tr>\n",
       "    <tr>\n",
       "      <th>ID</th>\n",
       "      <th></th>\n",
       "      <th></th>\n",
       "      <th></th>\n",
       "      <th></th>\n",
       "      <th></th>\n",
       "      <th></th>\n",
       "    </tr>\n",
       "  </thead>\n",
       "  <tbody>\n",
       "    <tr>\n",
       "      <th>52664</th>\n",
       "      <td>a</td>\n",
       "      <td>3942.0</td>\n",
       "      <td>2.0</td>\n",
       "      <td>155623</td>\n",
       "      <td>7855.0</td>\n",
       "      <td>42.0</td>\n",
       "    </tr>\n",
       "    <tr>\n",
       "      <th>327662</th>\n",
       "      <td>a</td>\n",
       "      <td>26046.0</td>\n",
       "      <td>12.0</td>\n",
       "      <td>21781</td>\n",
       "      <td>55801.0</td>\n",
       "      <td>1175.0</td>\n",
       "    </tr>\n",
       "    <tr>\n",
       "      <th>468453</th>\n",
       "      <td>c</td>\n",
       "      <td>1358.0</td>\n",
       "      <td>4.0</td>\n",
       "      <td>56177</td>\n",
       "      <td>8067.0</td>\n",
       "      <td>60.0</td>\n",
       "    </tr>\n",
       "    <tr>\n",
       "      <th>96996</th>\n",
       "      <td>a</td>\n",
       "      <td>264.0</td>\n",
       "      <td>3.0</td>\n",
       "      <td>168793</td>\n",
       "      <td>27064.0</td>\n",
       "      <td>9.0</td>\n",
       "    </tr>\n",
       "    <tr>\n",
       "      <th>131465</th>\n",
       "      <td>c</td>\n",
       "      <td>4271.0</td>\n",
       "      <td>4.0</td>\n",
       "      <td>112223</td>\n",
       "      <td>13986.0</td>\n",
       "      <td>83.0</td>\n",
       "    </tr>\n",
       "  </tbody>\n",
       "</table>\n",
       "</div>"
      ],
      "text/plain": [
       "       Tag  Reputation  Answers  Username    Views  Upvotes\n",
       "ID                                                         \n",
       "52664    a      3942.0      2.0    155623   7855.0     42.0\n",
       "327662   a     26046.0     12.0     21781  55801.0   1175.0\n",
       "468453   c      1358.0      4.0     56177   8067.0     60.0\n",
       "96996    a       264.0      3.0    168793  27064.0      9.0\n",
       "131465   c      4271.0      4.0    112223  13986.0     83.0"
      ]
     },
     "execution_count": 3,
     "metadata": {},
     "output_type": "execute_result"
    }
   ],
   "source": [
    "train = pd.read_csv('data/train_NIR5Yl1.csv', index_col='ID')\n",
    "print('Train Data Size :',train.shape)\n",
    "train.head()"
   ]
  },
  {
   "cell_type": "code",
   "execution_count": 4,
   "metadata": {},
   "outputs": [
    {
     "name": "stdout",
     "output_type": "stream",
     "text": [
      "Test Data Size : (141448, 5)\n"
     ]
    },
    {
     "data": {
      "text/html": [
       "<div>\n",
       "<style scoped>\n",
       "    .dataframe tbody tr th:only-of-type {\n",
       "        vertical-align: middle;\n",
       "    }\n",
       "\n",
       "    .dataframe tbody tr th {\n",
       "        vertical-align: top;\n",
       "    }\n",
       "\n",
       "    .dataframe thead th {\n",
       "        text-align: right;\n",
       "    }\n",
       "</style>\n",
       "<table border=\"1\" class=\"dataframe\">\n",
       "  <thead>\n",
       "    <tr style=\"text-align: right;\">\n",
       "      <th></th>\n",
       "      <th>Tag</th>\n",
       "      <th>Reputation</th>\n",
       "      <th>Answers</th>\n",
       "      <th>Username</th>\n",
       "      <th>Views</th>\n",
       "    </tr>\n",
       "    <tr>\n",
       "      <th>ID</th>\n",
       "      <th></th>\n",
       "      <th></th>\n",
       "      <th></th>\n",
       "      <th></th>\n",
       "      <th></th>\n",
       "    </tr>\n",
       "  </thead>\n",
       "  <tbody>\n",
       "    <tr>\n",
       "      <th>366953</th>\n",
       "      <td>a</td>\n",
       "      <td>5645.0</td>\n",
       "      <td>3.0</td>\n",
       "      <td>50652</td>\n",
       "      <td>33200.0</td>\n",
       "    </tr>\n",
       "    <tr>\n",
       "      <th>71864</th>\n",
       "      <td>c</td>\n",
       "      <td>24511.0</td>\n",
       "      <td>6.0</td>\n",
       "      <td>37685</td>\n",
       "      <td>2730.0</td>\n",
       "    </tr>\n",
       "    <tr>\n",
       "      <th>141692</th>\n",
       "      <td>i</td>\n",
       "      <td>927.0</td>\n",
       "      <td>1.0</td>\n",
       "      <td>135293</td>\n",
       "      <td>21167.0</td>\n",
       "    </tr>\n",
       "    <tr>\n",
       "      <th>316833</th>\n",
       "      <td>i</td>\n",
       "      <td>21.0</td>\n",
       "      <td>6.0</td>\n",
       "      <td>166998</td>\n",
       "      <td>18528.0</td>\n",
       "    </tr>\n",
       "    <tr>\n",
       "      <th>440445</th>\n",
       "      <td>i</td>\n",
       "      <td>4475.0</td>\n",
       "      <td>10.0</td>\n",
       "      <td>53504</td>\n",
       "      <td>57240.0</td>\n",
       "    </tr>\n",
       "  </tbody>\n",
       "</table>\n",
       "</div>"
      ],
      "text/plain": [
       "       Tag  Reputation  Answers  Username    Views\n",
       "ID                                                \n",
       "366953   a      5645.0      3.0     50652  33200.0\n",
       "71864    c     24511.0      6.0     37685   2730.0\n",
       "141692   i       927.0      1.0    135293  21167.0\n",
       "316833   i        21.0      6.0    166998  18528.0\n",
       "440445   i      4475.0     10.0     53504  57240.0"
      ]
     },
     "execution_count": 4,
     "metadata": {},
     "output_type": "execute_result"
    }
   ],
   "source": [
    "test = pd.read_csv('data/test_8i3B3FC.csv', index_col='ID')\n",
    "print('Test Data Size :',test.shape)\n",
    "test.head()"
   ]
  },
  {
   "cell_type": "markdown",
   "metadata": {},
   "source": [
    "## Pre-process Train Data"
   ]
  },
  {
   "cell_type": "code",
   "execution_count": 5,
   "metadata": {},
   "outputs": [
    {
     "name": "stdout",
     "output_type": "stream",
     "text": [
      "       Tag  Reputation  Answers  Username    Views\n",
      "ID                                                \n",
      "52664    a      3942.0      2.0    155623   7855.0\n",
      "327662   a     26046.0     12.0     21781  55801.0\n",
      "468453   c      1358.0      4.0     56177   8067.0\n",
      "96996    a       264.0      3.0    168793  27064.0\n",
      "131465   c      4271.0      4.0    112223  13986.0 \n",
      "\n",
      "\n",
      " ID\n",
      "52664       42.0\n",
      "327662    1175.0\n",
      "468453      60.0\n",
      "96996        9.0\n",
      "131465      83.0\n",
      "Name: Upvotes, dtype: float64\n"
     ]
    }
   ],
   "source": [
    "ytrain = train.pop('Upvotes')\n",
    "xtrain = train\n",
    "train = None\n",
    "print(xtrain.head(), '\\n\\n\\n', ytrain.head())"
   ]
  },
  {
   "cell_type": "code",
   "execution_count": 6,
   "metadata": {},
   "outputs": [
    {
     "name": "stdout",
     "output_type": "stream",
     "text": [
      "<class 'pandas.core.frame.DataFrame'>\n",
      "Int64Index: 330045 entries, 52664 to 300553\n",
      "Data columns (total 5 columns):\n",
      "Tag           330045 non-null category\n",
      "Reputation    330045 non-null float64\n",
      "Answers       330045 non-null float64\n",
      "Username      330045 non-null int64\n",
      "Views         330045 non-null float64\n",
      "dtypes: category(1), float64(3), int64(1)\n",
      "memory usage: 12.9 MB\n"
     ]
    }
   ],
   "source": [
    "xtrain.Tag = xtrain.Tag.astype('category')\n",
    "xtrain.info()"
   ]
  },
  {
   "cell_type": "code",
   "execution_count": 7,
   "metadata": {},
   "outputs": [
    {
     "name": "stdout",
     "output_type": "stream",
     "text": [
      "<class 'pandas.core.frame.DataFrame'>\n",
      "Int64Index: 141448 entries, 366953 to 107271\n",
      "Data columns (total 5 columns):\n",
      "Tag           141448 non-null category\n",
      "Reputation    141448 non-null float64\n",
      "Answers       141448 non-null float64\n",
      "Username      141448 non-null int64\n",
      "Views         141448 non-null float64\n",
      "dtypes: category(1), float64(3), int64(1)\n",
      "memory usage: 5.5 MB\n"
     ]
    }
   ],
   "source": [
    "test.Tag = test.Tag.astype('category')\n",
    "test.info()"
   ]
  },
  {
   "cell_type": "code",
   "execution_count": 8,
   "metadata": {},
   "outputs": [],
   "source": [
    "# Ref.: https://stackoverflow.com/a/48929642\n",
    "class ModifiedLabelEncoder(LabelEncoder):\n",
    "\n",
    "    def fit_transform(self, y, *args, **kwargs):\n",
    "        return super().fit_transform(y).reshape(-1, 1)\n",
    "\n",
    "    def transform(self, y, *args, **kwargs):\n",
    "        return super().transform(y).reshape(-1, 1)"
   ]
  },
  {
   "cell_type": "code",
   "execution_count": 9,
   "metadata": {},
   "outputs": [
    {
     "name": "stdout",
     "output_type": "stream",
     "text": [
      "        Reputation  Answers  Username    Views\n",
      "ID                                            \n",
      "52664       3942.0      2.0    155623   7855.0\n",
      "327662     26046.0     12.0     21781  55801.0\n",
      "468453      1358.0      4.0     56177   8067.0\n",
      "96996        264.0      3.0    168793  27064.0\n",
      "131465      4271.0      4.0    112223  13986.0\n",
      "       Tag\n",
      "ID        \n",
      "52664    a\n",
      "327662   a\n",
      "468453   c\n",
      "96996    a\n",
      "131465   c\n"
     ]
    }
   ],
   "source": [
    "# Ref.: https://stackoverflow.com/questions/48994618/unable-to-use-featureunion-to-combine-processed-numeric-and-categorical-features\n",
    "from sklearn.base import BaseEstimator, TransformerMixin\n",
    "\n",
    "# Class that identifies Column type\n",
    "class ColumnSelector(BaseEstimator, TransformerMixin):\n",
    "    def __init__(self, columns=None):\n",
    "        self.columns = columns\n",
    "    \n",
    "    def fit (self, X, y=None, **fit_params):\n",
    "        return self\n",
    "    \n",
    "    def transform(self, X):\n",
    "        assert isinstance(X, pd.DataFrame)\n",
    "        try:\n",
    "            return X[self.columns]\n",
    "        except KeyError:\n",
    "            cols_error = list(set(self.columns) - set(X.columns))\n",
    "            raise KeyError(\"The DataFrame does not include the columns: %s\" % cols_error)\n",
    "\n",
    "numeric_cols = ['Reputation', 'Answers', 'Username', 'Views'] # list of numeric column names\n",
    "categorical_cols = ['Tag'] # list of categorical column names\n",
    "\n",
    "# Testing\n",
    "print(ColumnSelector(columns=numeric_cols).fit_transform(xtrain).head())\n",
    "print(ColumnSelector(columns=categorical_cols).fit_transform(xtrain).head())"
   ]
  },
  {
   "cell_type": "code",
   "execution_count": 10,
   "metadata": {},
   "outputs": [
    {
     "name": "stderr",
     "output_type": "stream",
     "text": [
      "C:\\Anaconda3\\envs\\py36\\lib\\site-packages\\sklearn\\preprocessing\\label.py:111: DataConversionWarning: A column-vector y was passed when a 1d array was expected. Please change the shape of y to (n_samples, ), for example using ravel().\n",
      "  y = column_or_1d(y, warn=True)\n"
     ]
    },
    {
     "name": "stdout",
     "output_type": "stream",
     "text": [
      "(330045, 14)\n",
      "[[-0.14157253 -0.53573597  1.5072655  -0.26915833  1.          0.\n",
      "   0.          0.          0.          0.          0.          0.\n",
      "   0.          0.        ]\n",
      " [ 0.67523751  2.25794312 -1.21226978  0.32308687  1.          0.\n",
      "   0.          0.          0.          0.          0.          0.\n",
      "   0.          0.        ]\n",
      " [-0.23705919  0.02299985 -0.51337753 -0.26653963  0.          1.\n",
      "   0.          0.          0.          0.          0.          0.\n",
      "   0.          0.        ]\n",
      " [-0.27748582 -0.25636806  1.7748667  -0.03188227  1.          0.\n",
      "   0.          0.          0.          0.          0.          0.\n",
      "   0.          0.        ]\n",
      " [-0.12941498  0.02299985  0.62542101 -0.19342614  0.          1.\n",
      "   0.          0.          0.          0.          0.          0.\n",
      "   0.          0.        ]]\n"
     ]
    }
   ],
   "source": [
    "numeric_cols_pipe = make_pipeline(ColumnSelector(columns=numeric_cols),StandardScaler())\n",
    "categorical_cols_pipe = make_pipeline(ColumnSelector(columns=categorical_cols), ModifiedLabelEncoder(), OneHotEncoder(sparse=False))\n",
    "\n",
    "fu = make_union(numeric_cols_pipe, categorical_cols_pipe)\n",
    "\n",
    "trans_vec = fu.fit_transform(xtrain)\n",
    "print(trans_vec.shape)\n",
    "print(trans_vec[:5])"
   ]
  },
  {
   "cell_type": "code",
   "execution_count": 11,
   "metadata": {},
   "outputs": [],
   "source": [
    "pca = PCA(n_components=5)\n",
    "principalComponents = pca.fit(trans_vec)"
   ]
  },
  {
   "cell_type": "code",
   "execution_count": 12,
   "metadata": {},
   "outputs": [
    {
     "data": {
      "text/plain": [
       "array([0.31133663, 0.21337905, 0.1967692 , 0.10323501, 0.04480853])"
      ]
     },
     "execution_count": 12,
     "metadata": {},
     "output_type": "execute_result"
    }
   ],
   "source": [
    "pca.explained_variance_ratio_"
   ]
  },
  {
   "cell_type": "code",
   "execution_count": 13,
   "metadata": {},
   "outputs": [],
   "source": [
    "pca_vec = pca.transform(trans_vec)"
   ]
  },
  {
   "cell_type": "code",
   "execution_count": 14,
   "metadata": {},
   "outputs": [
    {
     "name": "stderr",
     "output_type": "stream",
     "text": [
      "C:\\Anaconda3\\envs\\py36\\lib\\site-packages\\sklearn\\preprocessing\\label.py:128: DataConversionWarning: A column-vector y was passed when a 1d array was expected. Please change the shape of y to (n_samples, ), for example using ravel().\n",
      "  y = column_or_1d(y, warn=True)\n"
     ]
    },
    {
     "data": {
      "text/plain": [
       "(141448, 14)"
      ]
     },
     "execution_count": 14,
     "metadata": {},
     "output_type": "execute_result"
    }
   ],
   "source": [
    "test_fu_vec = fu.transform(test)\n",
    "test_fu_vec.shape"
   ]
  },
  {
   "cell_type": "code",
   "execution_count": 15,
   "metadata": {},
   "outputs": [
    {
     "data": {
      "text/plain": [
       "(141448, 5)"
      ]
     },
     "execution_count": 15,
     "metadata": {},
     "output_type": "execute_result"
    }
   ],
   "source": [
    "test_pca_vec = pca.transform(test_fu_vec)\n",
    "test_pca_vec.shape"
   ]
  },
  {
   "cell_type": "code",
   "execution_count": 16,
   "metadata": {},
   "outputs": [
    {
     "name": "stderr",
     "output_type": "stream",
     "text": [
      "C:\\Anaconda3\\envs\\py36\\lib\\site-packages\\sklearn\\model_selection\\_split.py:2026: FutureWarning: From version 0.21, test_size will always complement train_size unless both are specified.\n",
      "  FutureWarning)\n"
     ]
    }
   ],
   "source": [
    "# Split train data-set\n",
    "x_train, x_test, y_train, y_test = train_test_split(pca_vec, ytrain.values, train_size = 0.75, random_state = 42)"
   ]
  },
  {
   "cell_type": "code",
   "execution_count": 17,
   "metadata": {},
   "outputs": [],
   "source": [
    "def conv2df(preds):\n",
    "    df = pd.DataFrame(data={\n",
    "        'ID': test.index.values,\n",
    "        'Upvotes': preds\n",
    "    })\n",
    "    df['Upvotes'] = df.Upvotes.astype(int)\n",
    "    return df"
   ]
  },
  {
   "cell_type": "code",
   "execution_count": 31,
   "metadata": {},
   "outputs": [
    {
     "name": "stdout",
     "output_type": "stream",
     "text": [
      "BR(PCA) Score :  0.9450033019853505\n"
     ]
    }
   ],
   "source": [
    "dtr = DecisionTreeRegressor()\n",
    "br_est = BaggingRegressor(dtr, n_jobs=-1, random_state=42)\n",
    "br_est.fit(pca_vec, ytrain.values)\n",
    "print('BR(PCA) Score : ', br_est.score(pca_vec, ytrain.values))\n",
    "preds = br_est.predict(test_pca_vec)\n",
    "conv2df(preds).to_csv('data/output/bagging_regressor_pca.csv', index=False)"
   ]
  },
  {
   "cell_type": "code",
   "execution_count": 32,
   "metadata": {},
   "outputs": [
    {
     "name": "stdout",
     "output_type": "stream",
     "text": [
      "Fitting 3 folds for each of 18 candidates, totalling 54 fits\n",
      "[CV] max_features=0.8, max_samples=0.7, n_estimators=10 ..............\n",
      "[CV]  max_features=0.8, max_samples=0.7, n_estimators=10, score=0.6720704043027315, total=  16.8s\n",
      "[CV] max_features=0.8, max_samples=0.7, n_estimators=10 ..............\n"
     ]
    },
    {
     "name": "stderr",
     "output_type": "stream",
     "text": [
      "[Parallel(n_jobs=1)]: Done   1 out of   1 | elapsed:   21.2s remaining:    0.0s\n"
     ]
    },
    {
     "name": "stdout",
     "output_type": "stream",
     "text": [
      "[CV]  max_features=0.8, max_samples=0.7, n_estimators=10, score=0.7093606870039354, total=  17.1s\n",
      "[CV] max_features=0.8, max_samples=0.7, n_estimators=10 ..............\n"
     ]
    },
    {
     "name": "stderr",
     "output_type": "stream",
     "text": [
      "[Parallel(n_jobs=1)]: Done   2 out of   2 | elapsed:   43.5s remaining:    0.0s\n"
     ]
    },
    {
     "name": "stdout",
     "output_type": "stream",
     "text": [
      "[CV]  max_features=0.8, max_samples=0.7, n_estimators=10, score=0.690257097801859, total=  19.6s\n",
      "[CV] max_features=0.8, max_samples=0.7, n_estimators=15 ..............\n"
     ]
    },
    {
     "name": "stderr",
     "output_type": "stream",
     "text": [
      "[Parallel(n_jobs=1)]: Done   3 out of   3 | elapsed:  1.1min remaining:    0.0s\n"
     ]
    },
    {
     "name": "stdout",
     "output_type": "stream",
     "text": [
      "[CV]  max_features=0.8, max_samples=0.7, n_estimators=15, score=0.6950455799608812, total=  24.7s\n",
      "[CV] max_features=0.8, max_samples=0.7, n_estimators=15 ..............\n"
     ]
    },
    {
     "name": "stderr",
     "output_type": "stream",
     "text": [
      "[Parallel(n_jobs=1)]: Done   4 out of   4 | elapsed:  1.6min remaining:    0.0s\n"
     ]
    },
    {
     "name": "stdout",
     "output_type": "stream",
     "text": [
      "[CV]  max_features=0.8, max_samples=0.7, n_estimators=15, score=0.7144236074218909, total=  22.6s\n",
      "[CV] max_features=0.8, max_samples=0.7, n_estimators=15 ..............\n",
      "[CV]  max_features=0.8, max_samples=0.7, n_estimators=15, score=0.6904127204003673, total=  21.9s\n",
      "[CV] max_features=0.8, max_samples=0.7, n_estimators=30 ..............\n",
      "[CV]  max_features=0.8, max_samples=0.7, n_estimators=30, score=0.7119904930690566, total=  43.0s\n",
      "[CV] max_features=0.8, max_samples=0.7, n_estimators=30 ..............\n",
      "[CV]  max_features=0.8, max_samples=0.7, n_estimators=30, score=0.7525918443939215, total=  41.8s\n",
      "[CV] max_features=0.8, max_samples=0.7, n_estimators=30 ..............\n",
      "[CV]  max_features=0.8, max_samples=0.7, n_estimators=30, score=0.7160691773876554, total=  34.8s\n",
      "[CV] max_features=0.8, max_samples=0.8, n_estimators=10 ..............\n",
      "[CV]  max_features=0.8, max_samples=0.8, n_estimators=10, score=0.7555065579376714, total=  16.3s\n",
      "[CV] max_features=0.8, max_samples=0.8, n_estimators=10 ..............\n",
      "[CV]  max_features=0.8, max_samples=0.8, n_estimators=10, score=0.7368396391555718, total=  16.9s\n",
      "[CV] max_features=0.8, max_samples=0.8, n_estimators=10 ..............\n",
      "[CV]  max_features=0.8, max_samples=0.8, n_estimators=10, score=0.6449679997310505, total=  18.9s\n",
      "[CV] max_features=0.8, max_samples=0.8, n_estimators=15 ..............\n",
      "[CV]  max_features=0.8, max_samples=0.8, n_estimators=15, score=0.7648882315912864, total=  23.7s\n",
      "[CV] max_features=0.8, max_samples=0.8, n_estimators=15 ..............\n",
      "[CV]  max_features=0.8, max_samples=0.8, n_estimators=15, score=0.7217303855396584, total=  23.9s\n",
      "[CV] max_features=0.8, max_samples=0.8, n_estimators=15 ..............\n",
      "[CV]  max_features=0.8, max_samples=0.8, n_estimators=15, score=0.6756452989185018, total=  22.5s\n",
      "[CV] max_features=0.8, max_samples=0.8, n_estimators=30 ..............\n",
      "[CV]  max_features=0.8, max_samples=0.8, n_estimators=30, score=0.7591031714354973, total=  41.2s\n",
      "[CV] max_features=0.8, max_samples=0.8, n_estimators=30 ..............\n",
      "[CV]  max_features=0.8, max_samples=0.8, n_estimators=30, score=0.7553402218233141, total=  38.1s\n",
      "[CV] max_features=0.8, max_samples=0.8, n_estimators=30 ..............\n",
      "[CV]  max_features=0.8, max_samples=0.8, n_estimators=30, score=0.6989855231531434, total=  37.5s\n",
      "[CV] max_features=0.8, max_samples=1, n_estimators=10 ................\n",
      "[CV]  max_features=0.8, max_samples=1, n_estimators=10, score=-0.005742975579020593, total=   8.2s\n",
      "[CV] max_features=0.8, max_samples=1, n_estimators=10 ................\n",
      "[CV]  max_features=0.8, max_samples=1, n_estimators=10, score=-0.0038621416211699344, total=   7.4s\n",
      "[CV] max_features=0.8, max_samples=1, n_estimators=10 ................\n",
      "[CV]  max_features=0.8, max_samples=1, n_estimators=10, score=-0.006993029757178082, total=   7.4s\n",
      "[CV] max_features=0.8, max_samples=1, n_estimators=15 ................\n",
      "[CV]  max_features=0.8, max_samples=1, n_estimators=15, score=-0.002098475036678815, total=   8.5s\n",
      "[CV] max_features=0.8, max_samples=1, n_estimators=15 ................\n",
      "[CV]  max_features=0.8, max_samples=1, n_estimators=15, score=-0.004433093459702109, total=   8.6s\n",
      "[CV] max_features=0.8, max_samples=1, n_estimators=15 ................\n",
      "[CV]  max_features=0.8, max_samples=1, n_estimators=15, score=-0.005585216157358186, total=   7.8s\n",
      "[CV] max_features=0.8, max_samples=1, n_estimators=30 ................\n",
      "[CV]  max_features=0.8, max_samples=1, n_estimators=30, score=-8.038260739273717e-05, total=   7.9s\n",
      "[CV] max_features=0.8, max_samples=1, n_estimators=30 ................\n",
      "[CV]  max_features=0.8, max_samples=1, n_estimators=30, score=-0.004427276412013459, total=   7.6s\n",
      "[CV] max_features=0.8, max_samples=1, n_estimators=30 ................\n",
      "[CV]  max_features=0.8, max_samples=1, n_estimators=30, score=-0.004967789666749711, total=   8.0s\n",
      "[CV] max_features=1.0, max_samples=0.7, n_estimators=10 ..............\n",
      "[CV]  max_features=1.0, max_samples=0.7, n_estimators=10, score=0.7472510990794756, total=  18.3s\n",
      "[CV] max_features=1.0, max_samples=0.7, n_estimators=10 ..............\n",
      "[CV]  max_features=1.0, max_samples=0.7, n_estimators=10, score=0.7704060782715503, total=  19.0s\n",
      "[CV] max_features=1.0, max_samples=0.7, n_estimators=10 ..............\n",
      "[CV]  max_features=1.0, max_samples=0.7, n_estimators=10, score=0.6819379163927897, total=  27.6s\n",
      "[CV] max_features=1.0, max_samples=0.7, n_estimators=15 ..............\n",
      "[CV]  max_features=1.0, max_samples=0.7, n_estimators=15, score=0.7655919520051994, total=  31.9s\n",
      "[CV] max_features=1.0, max_samples=0.7, n_estimators=15 ..............\n",
      "[CV]  max_features=1.0, max_samples=0.7, n_estimators=15, score=0.7730030306495697, total=  32.2s\n",
      "[CV] max_features=1.0, max_samples=0.7, n_estimators=15 ..............\n",
      "[CV]  max_features=1.0, max_samples=0.7, n_estimators=15, score=0.6946769400026076, total=  25.6s\n",
      "[CV] max_features=1.0, max_samples=0.7, n_estimators=30 ..............\n",
      "[CV]  max_features=1.0, max_samples=0.7, n_estimators=30, score=0.7546206766344175, total=  36.3s\n",
      "[CV] max_features=1.0, max_samples=0.7, n_estimators=30 ..............\n",
      "[CV]  max_features=1.0, max_samples=0.7, n_estimators=30, score=0.7825252499781945, total=  36.6s\n",
      "[CV] max_features=1.0, max_samples=0.7, n_estimators=30 ..............\n",
      "[CV]  max_features=1.0, max_samples=0.7, n_estimators=30, score=0.7106146331783858, total=  49.5s\n",
      "[CV] max_features=1.0, max_samples=0.8, n_estimators=10 ..............\n",
      "[CV]  max_features=1.0, max_samples=0.8, n_estimators=10, score=0.7270299551260861, total=  21.6s\n",
      "[CV] max_features=1.0, max_samples=0.8, n_estimators=10 ..............\n",
      "[CV]  max_features=1.0, max_samples=0.8, n_estimators=10, score=0.747009133808295, total=  20.0s\n",
      "[CV] max_features=1.0, max_samples=0.8, n_estimators=10 ..............\n",
      "[CV]  max_features=1.0, max_samples=0.8, n_estimators=10, score=0.6915428215510699, total=  19.7s\n",
      "[CV] max_features=1.0, max_samples=0.8, n_estimators=15 ..............\n",
      "[CV]  max_features=1.0, max_samples=0.8, n_estimators=15, score=0.7465103044396997, total=  22.9s\n",
      "[CV] max_features=1.0, max_samples=0.8, n_estimators=15 ..............\n",
      "[CV]  max_features=1.0, max_samples=0.8, n_estimators=15, score=0.7485418053524939, total=  25.2s\n",
      "[CV] max_features=1.0, max_samples=0.8, n_estimators=15 ..............\n",
      "[CV]  max_features=1.0, max_samples=0.8, n_estimators=15, score=0.6901911991191729, total=  32.5s\n",
      "[CV] max_features=1.0, max_samples=0.8, n_estimators=30 ..............\n",
      "[CV]  max_features=1.0, max_samples=0.8, n_estimators=30, score=0.755027633164422, total=  44.7s\n",
      "[CV] max_features=1.0, max_samples=0.8, n_estimators=30 ..............\n",
      "[CV]  max_features=1.0, max_samples=0.8, n_estimators=30, score=0.7719708297134673, total=  40.6s\n",
      "[CV] max_features=1.0, max_samples=0.8, n_estimators=30 ..............\n",
      "[CV]  max_features=1.0, max_samples=0.8, n_estimators=30, score=0.7170150376046538, total=  41.3s\n",
      "[CV] max_features=1.0, max_samples=1, n_estimators=10 ................\n",
      "[CV]  max_features=1.0, max_samples=1, n_estimators=10, score=-0.002866285970011262, total=  10.3s\n",
      "[CV] max_features=1.0, max_samples=1, n_estimators=10 ................\n",
      "[CV]  max_features=1.0, max_samples=1, n_estimators=10, score=-0.00013553962537837805, total=  10.4s\n",
      "[CV] max_features=1.0, max_samples=1, n_estimators=10 ................\n",
      "[CV]  max_features=1.0, max_samples=1, n_estimators=10, score=-0.0011419383427655472, total=   8.7s\n",
      "[CV] max_features=1.0, max_samples=1, n_estimators=15 ................\n",
      "[CV]  max_features=1.0, max_samples=1, n_estimators=15, score=-0.0004981131835064545, total=   8.3s\n",
      "[CV] max_features=1.0, max_samples=1, n_estimators=15 ................\n",
      "[CV]  max_features=1.0, max_samples=1, n_estimators=15, score=-0.0012165145693410209, total=   8.9s\n",
      "[CV] max_features=1.0, max_samples=1, n_estimators=15 ................\n",
      "[CV]  max_features=1.0, max_samples=1, n_estimators=15, score=-0.0015160362282859996, total=   8.6s\n",
      "[CV] max_features=1.0, max_samples=1, n_estimators=30 ................\n",
      "[CV]  max_features=1.0, max_samples=1, n_estimators=30, score=-0.00188268172216155, total=   7.8s\n",
      "[CV] max_features=1.0, max_samples=1, n_estimators=30 ................\n",
      "[CV]  max_features=1.0, max_samples=1, n_estimators=30, score=-0.003122067680817908, total=   7.5s\n",
      "[CV] max_features=1.0, max_samples=1, n_estimators=30 ................\n"
     ]
    },
    {
     "name": "stdout",
     "output_type": "stream",
     "text": [
      "[CV]  max_features=1.0, max_samples=1, n_estimators=30, score=-0.003628222544123983, total=   7.5s\n"
     ]
    },
    {
     "name": "stderr",
     "output_type": "stream",
     "text": [
      "[Parallel(n_jobs=1)]: Done  54 out of  54 | elapsed: 25.3min finished\n"
     ]
    }
   ],
   "source": [
    "br_est = BaggingRegressor(DecisionTreeRegressor(), n_jobs=-1, random_state=42)\n",
    "params = {\n",
    "    'n_estimators': [10, 15, 30],\n",
    "    'max_samples': [.7, .8, 1],\n",
    "    'max_features': [.8, 1.0],\n",
    "}\n",
    "gsv = GridSearchCV(br_est, params, cv=3, verbose=5)\n",
    "gsv.fit(pca_vec, ytrain.values)\n",
    "preds = gsv.predict(test_pca_vec)\n",
    "conv2df(preds).to_csv('data/output/bagging_regressor_gsv_pca.csv', index=False)"
   ]
  },
  {
   "cell_type": "code",
   "execution_count": 33,
   "metadata": {},
   "outputs": [
    {
     "name": "stdout",
     "output_type": "stream",
     "text": [
      "Best Score: 0.7492535199303325\n",
      "Best Params :  {'max_features': 1.0, 'max_samples': 0.7, 'n_estimators': 30}\n"
     ]
    }
   ],
   "source": [
    "print('Best Score:', gsv.best_score_)\n",
    "print('Best Params : ', gsv.best_params_)"
   ]
  },
  {
   "cell_type": "code",
   "execution_count": 34,
   "metadata": {},
   "outputs": [
    {
     "name": "stdout",
     "output_type": "stream",
     "text": [
      "BR Score :  0.8250594799880281\n"
     ]
    }
   ],
   "source": [
    "br_est = BaggingRegressor(DecisionTreeRegressor(max_depth=5), n_jobs=-1, random_state=42, n_estimators=100)\n",
    "br_est.fit(pca_vec, ytrain.values)\n",
    "print('BR Score : ', br_est.score(pca_vec, ytrain.values))\n",
    "\n",
    "preds = br_est.predict(test_pca_vec)\n",
    "conv2df(preds).to_csv('data/output/br1.csv', index=False)"
   ]
  },
  {
   "cell_type": "code",
   "execution_count": 39,
   "metadata": {},
   "outputs": [
    {
     "name": "stdout",
     "output_type": "stream",
     "text": [
      "Fitting 3 folds for each of 4 candidates, totalling 12 fits\n",
      "[CV] max_samples=0.7, n_estimators=25 ................................\n",
      "[CV]  max_samples=0.7, n_estimators=25, score=0.84809742413122, total=  33.3s\n",
      "[CV] max_samples=0.7, n_estimators=25 ................................\n"
     ]
    },
    {
     "name": "stderr",
     "output_type": "stream",
     "text": [
      "[Parallel(n_jobs=1)]: Done   1 out of   1 | elapsed:   40.8s remaining:    0.0s\n"
     ]
    },
    {
     "name": "stdout",
     "output_type": "stream",
     "text": [
      "[CV]  max_samples=0.7, n_estimators=25, score=0.8596348903958209, total=  30.8s\n",
      "[CV] max_samples=0.7, n_estimators=25 ................................\n"
     ]
    },
    {
     "name": "stderr",
     "output_type": "stream",
     "text": [
      "[Parallel(n_jobs=1)]: Done   2 out of   2 | elapsed:  1.3min remaining:    0.0s\n"
     ]
    },
    {
     "name": "stdout",
     "output_type": "stream",
     "text": [
      "[CV]  max_samples=0.7, n_estimators=25, score=0.8330459801276503, total=  28.3s\n",
      "[CV] max_samples=0.7, n_estimators=50 ................................\n"
     ]
    },
    {
     "name": "stderr",
     "output_type": "stream",
     "text": [
      "[Parallel(n_jobs=1)]: Done   3 out of   3 | elapsed:  1.9min remaining:    0.0s\n"
     ]
    },
    {
     "name": "stdout",
     "output_type": "stream",
     "text": [
      "[CV]  max_samples=0.7, n_estimators=50, score=0.8562313425378281, total=  58.2s\n",
      "[CV] max_samples=0.7, n_estimators=50 ................................\n"
     ]
    },
    {
     "name": "stderr",
     "output_type": "stream",
     "text": [
      "[Parallel(n_jobs=1)]: Done   4 out of   4 | elapsed:  3.2min remaining:    0.0s\n"
     ]
    },
    {
     "name": "stdout",
     "output_type": "stream",
     "text": [
      "[CV]  max_samples=0.7, n_estimators=50, score=0.8657241411038565, total= 1.0min\n",
      "[CV] max_samples=0.7, n_estimators=50 ................................\n",
      "[CV]  max_samples=0.7, n_estimators=50, score=0.8293827773373756, total= 1.0min\n",
      "[CV] max_samples=0.7, n_estimators=75 ................................\n",
      "[CV]  max_samples=0.7, n_estimators=75, score=0.8433411604010346, total= 1.4min\n",
      "[CV] max_samples=0.7, n_estimators=75 ................................\n",
      "[CV]  max_samples=0.7, n_estimators=75, score=0.86733836975034, total= 1.4min\n",
      "[CV] max_samples=0.7, n_estimators=75 ................................\n",
      "[CV]  max_samples=0.7, n_estimators=75, score=0.8291891910901801, total= 1.8min\n",
      "[CV] max_samples=0.7, n_estimators=100 ...............................\n",
      "[CV]  max_samples=0.7, n_estimators=100, score=0.8376999560661825, total= 2.2min\n",
      "[CV] max_samples=0.7, n_estimators=100 ...............................\n",
      "[CV]  max_samples=0.7, n_estimators=100, score=0.8698878397735448, total= 2.3min\n",
      "[CV] max_samples=0.7, n_estimators=100 ...............................\n",
      "[CV]  max_samples=0.7, n_estimators=100, score=0.8333206432836783, total= 2.1min\n"
     ]
    },
    {
     "name": "stderr",
     "output_type": "stream",
     "text": [
      "[Parallel(n_jobs=1)]: Done  12 out of  12 | elapsed: 20.1min finished\n"
     ]
    },
    {
     "name": "stdout",
     "output_type": "stream",
     "text": [
      "BR-GSV Score :  -0.02170623333284505\n"
     ]
    }
   ],
   "source": [
    "br = BaggingRegressor(DecisionTreeRegressor(), n_jobs=-1, random_state=42)\n",
    "params = {\n",
    "    'n_estimators': [25, 50, 75],\n",
    "    'max_samples': [.7],\n",
    "}\n",
    "gsv = GridSearchCV(br, params, cv=3, verbose=5)\n",
    "gsv.fit(trans_vec, ytrain.values)\n",
    "print('BR-GSV Score : ', br_est.score(trans_vec, ytrain.values))\n",
    "preds = gsv.predict(test_fu_vec)\n",
    "conv2df(preds).to_csv('data/output/bagging_regressor_gsv.csv', index=False)"
   ]
  },
  {
   "cell_type": "code",
   "execution_count": 41,
   "metadata": {},
   "outputs": [
    {
     "data": {
      "text/plain": [
       "{'max_samples': 0.7, 'n_estimators': 50}"
      ]
     },
     "execution_count": 41,
     "metadata": {},
     "output_type": "execute_result"
    }
   ],
   "source": [
    "gsv.best_params_"
   ]
  },
  {
   "cell_type": "code",
   "execution_count": 22,
   "metadata": {},
   "outputs": [
    {
     "name": "stderr",
     "output_type": "stream",
     "text": [
      "[Parallel(n_jobs=4)]: Done   2 out of   4 | elapsed:   16.1s remaining:   16.1s\n",
      "[Parallel(n_jobs=4)]: Done   4 out of   4 | elapsed:   16.9s finished\n",
      "[Parallel(n_jobs=4)]: Done   2 out of   4 | elapsed:    3.3s remaining:    3.3s\n",
      "[Parallel(n_jobs=4)]: Done   4 out of   4 | elapsed:    4.5s finished\n",
      "[Parallel(n_jobs=4)]: Done   2 out of   4 | elapsed:   16.3s remaining:   16.3s\n",
      "[Parallel(n_jobs=4)]: Done   4 out of   4 | elapsed:   17.0s finished\n",
      "[Parallel(n_jobs=4)]: Done   2 out of   4 | elapsed:    3.4s remaining:    3.4s\n",
      "[Parallel(n_jobs=4)]: Done   4 out of   4 | elapsed:    4.6s finished\n",
      "[Parallel(n_jobs=4)]: Done   2 out of   4 | elapsed:   17.1s remaining:   17.1s\n",
      "[Parallel(n_jobs=4)]: Done   4 out of   4 | elapsed:   17.8s finished\n",
      "[Parallel(n_jobs=4)]: Done   2 out of   4 | elapsed:    3.5s remaining:    3.5s\n",
      "[Parallel(n_jobs=4)]: Done   4 out of   4 | elapsed:    4.9s finished\n",
      "[Parallel(n_jobs=4)]: Done   2 out of   4 | elapsed:   16.4s remaining:   16.4s\n",
      "[Parallel(n_jobs=4)]: Done   4 out of   4 | elapsed:   17.0s finished\n",
      "[Parallel(n_jobs=4)]: Done   2 out of   4 | elapsed:    5.6s remaining:    5.6s\n",
      "[Parallel(n_jobs=4)]: Done   4 out of   4 | elapsed:    7.1s finished\n",
      "[Parallel(n_jobs=4)]: Done   2 out of   4 | elapsed:   22.0s remaining:   22.0s\n",
      "[Parallel(n_jobs=4)]: Done   4 out of   4 | elapsed:   22.6s finished\n",
      "[Parallel(n_jobs=4)]: Done   2 out of   4 | elapsed:    3.3s remaining:    3.3s\n",
      "[Parallel(n_jobs=4)]: Done   4 out of   4 | elapsed:    4.4s finished\n",
      "[Parallel(n_jobs=4)]: Done   2 out of   4 | elapsed:   17.5s remaining:   17.5s\n",
      "[Parallel(n_jobs=4)]: Done   4 out of   4 | elapsed:   18.5s finished\n",
      "[Parallel(n_jobs=4)]: Done   2 out of   4 | elapsed:    3.6s remaining:    3.6s\n",
      "[Parallel(n_jobs=4)]: Done   4 out of   4 | elapsed:    4.8s finished\n",
      "[Parallel(n_jobs=4)]: Done   2 out of   4 | elapsed:   26.0s remaining:   26.0s\n",
      "[Parallel(n_jobs=4)]: Done   4 out of   4 | elapsed:   26.7s finished\n",
      "[Parallel(n_jobs=4)]: Done   2 out of   4 | elapsed:    4.5s remaining:    4.5s\n",
      "[Parallel(n_jobs=4)]: Done   4 out of   4 | elapsed:    5.7s finished\n",
      "[Parallel(n_jobs=4)]: Done   2 out of   4 | elapsed:   19.9s remaining:   19.9s\n",
      "[Parallel(n_jobs=4)]: Done   4 out of   4 | elapsed:   20.4s finished\n",
      "[Parallel(n_jobs=4)]: Done   2 out of   4 | elapsed:    3.3s remaining:    3.3s\n",
      "[Parallel(n_jobs=4)]: Done   4 out of   4 | elapsed:    4.5s finished\n",
      "[Parallel(n_jobs=4)]: Done   2 out of   4 | elapsed:   17.7s remaining:   17.7s\n",
      "[Parallel(n_jobs=4)]: Done   4 out of   4 | elapsed:   18.3s finished\n",
      "[Parallel(n_jobs=4)]: Done   2 out of   4 | elapsed:    3.9s remaining:    3.9s\n",
      "[Parallel(n_jobs=4)]: Done   4 out of   4 | elapsed:    5.2s finished\n",
      "[Parallel(n_jobs=4)]: Done   2 out of   4 | elapsed:   20.0s remaining:   20.0s\n",
      "[Parallel(n_jobs=4)]: Done   4 out of   4 | elapsed:   20.4s finished\n",
      "[Parallel(n_jobs=4)]: Done   2 out of   4 | elapsed:    4.2s remaining:    4.2s\n",
      "[Parallel(n_jobs=4)]: Done   4 out of   4 | elapsed:    5.5s finished\n",
      "[Parallel(n_jobs=4)]: Done   2 out of   4 | elapsed:   20.4s remaining:   20.4s\n",
      "[Parallel(n_jobs=4)]: Done   4 out of   4 | elapsed:   20.9s finished\n",
      "[Parallel(n_jobs=4)]: Done   2 out of   4 | elapsed:    4.2s remaining:    4.2s\n",
      "[Parallel(n_jobs=4)]: Done   4 out of   4 | elapsed:    5.7s finished\n",
      "[Parallel(n_jobs=4)]: Done   2 out of   4 | elapsed:   23.2s remaining:   23.2s\n",
      "[Parallel(n_jobs=4)]: Done   4 out of   4 | elapsed:   24.1s finished\n",
      "[Parallel(n_jobs=4)]: Done   2 out of   4 | elapsed:    4.7s remaining:    4.7s\n",
      "[Parallel(n_jobs=4)]: Done   4 out of   4 | elapsed:    6.2s finished\n",
      "[Parallel(n_jobs=4)]: Done   2 out of   4 | elapsed:   22.3s remaining:   22.3s\n",
      "[Parallel(n_jobs=4)]: Done   4 out of   4 | elapsed:   23.3s finished\n",
      "[Parallel(n_jobs=4)]: Done   2 out of   4 | elapsed:    5.1s remaining:    5.1s\n",
      "[Parallel(n_jobs=4)]: Done   4 out of   4 | elapsed:    6.4s finished\n",
      "[Parallel(n_jobs=4)]: Done   2 out of   4 | elapsed:   18.3s remaining:   18.3s\n",
      "[Parallel(n_jobs=4)]: Done   4 out of   4 | elapsed:   19.2s finished\n",
      "[Parallel(n_jobs=4)]: Done   2 out of   4 | elapsed:    4.4s remaining:    4.4s\n",
      "[Parallel(n_jobs=4)]: Done   4 out of   4 | elapsed:    5.8s finished\n",
      "[Parallel(n_jobs=4)]: Done   2 out of   4 | elapsed:   19.6s remaining:   19.6s\n",
      "[Parallel(n_jobs=4)]: Done   4 out of   4 | elapsed:   20.2s finished\n",
      "[Parallel(n_jobs=4)]: Done   2 out of   4 | elapsed:    3.7s remaining:    3.7s\n",
      "[Parallel(n_jobs=4)]: Done   4 out of   4 | elapsed:    4.9s finished\n",
      "[Parallel(n_jobs=4)]: Done   2 out of   4 | elapsed:   19.3s remaining:   19.3s\n",
      "[Parallel(n_jobs=4)]: Done   4 out of   4 | elapsed:   19.9s finished\n",
      "[Parallel(n_jobs=4)]: Done   2 out of   4 | elapsed:    4.1s remaining:    4.1s\n",
      "[Parallel(n_jobs=4)]: Done   4 out of   4 | elapsed:    5.5s finished\n",
      "[Parallel(n_jobs=4)]: Done   2 out of   4 | elapsed:   15.4s remaining:   15.4s\n",
      "[Parallel(n_jobs=4)]: Done   4 out of   4 | elapsed:   15.9s finished\n",
      "[Parallel(n_jobs=4)]: Done   2 out of   4 | elapsed:    3.4s remaining:    3.4s\n",
      "[Parallel(n_jobs=4)]: Done   4 out of   4 | elapsed:    4.6s finished\n",
      "[Parallel(n_jobs=4)]: Done   2 out of   4 | elapsed:   16.3s remaining:   16.3s\n",
      "[Parallel(n_jobs=4)]: Done   4 out of   4 | elapsed:   17.2s finished\n",
      "[Parallel(n_jobs=4)]: Done   2 out of   4 | elapsed:    4.8s remaining:    4.8s\n",
      "[Parallel(n_jobs=4)]: Done   4 out of   4 | elapsed:    6.5s finished\n",
      "[Parallel(n_jobs=4)]: Done   2 out of   4 | elapsed:   19.0s remaining:   19.0s\n",
      "[Parallel(n_jobs=4)]: Done   4 out of   4 | elapsed:   19.5s finished\n",
      "[Parallel(n_jobs=4)]: Done   2 out of   4 | elapsed:    4.9s remaining:    4.9s\n",
      "[Parallel(n_jobs=4)]: Done   4 out of   4 | elapsed:    6.3s finished\n",
      "[Parallel(n_jobs=4)]: Done   2 out of   4 | elapsed:   19.8s remaining:   19.8s\n",
      "[Parallel(n_jobs=4)]: Done   4 out of   4 | elapsed:   20.4s finished\n",
      "[Parallel(n_jobs=4)]: Done   2 out of   4 | elapsed:    4.2s remaining:    4.2s\n",
      "[Parallel(n_jobs=4)]: Done   4 out of   4 | elapsed:    5.5s finished\n",
      "[Parallel(n_jobs=4)]: Done   2 out of   4 | elapsed:   18.4s remaining:   18.4s\n",
      "[Parallel(n_jobs=4)]: Done   4 out of   4 | elapsed:   19.1s finished\n",
      "[Parallel(n_jobs=4)]: Done   2 out of   4 | elapsed:    4.7s remaining:    4.7s\n",
      "[Parallel(n_jobs=4)]: Done   4 out of   4 | elapsed:    6.4s finished\n",
      "[Parallel(n_jobs=4)]: Done   2 out of   4 | elapsed:   20.5s remaining:   20.5s\n",
      "[Parallel(n_jobs=4)]: Done   4 out of   4 | elapsed:   20.9s finished\n",
      "[Parallel(n_jobs=4)]: Done   2 out of   4 | elapsed:    3.5s remaining:    3.5s\n",
      "[Parallel(n_jobs=4)]: Done   4 out of   4 | elapsed:    4.7s finished\n",
      "[Parallel(n_jobs=4)]: Done   2 out of   4 | elapsed:   18.8s remaining:   18.8s\n",
      "[Parallel(n_jobs=4)]: Done   4 out of   4 | elapsed:   19.8s finished\n",
      "[Parallel(n_jobs=4)]: Done   2 out of   4 | elapsed:    3.8s remaining:    3.8s\n",
      "[Parallel(n_jobs=4)]: Done   4 out of   4 | elapsed:    5.0s finished\n",
      "[Parallel(n_jobs=4)]: Done   2 out of   4 | elapsed:   15.4s remaining:   15.4s\n",
      "[Parallel(n_jobs=4)]: Done   4 out of   4 | elapsed:   16.1s finished\n",
      "[Parallel(n_jobs=4)]: Done   2 out of   4 | elapsed:    3.3s remaining:    3.3s\n",
      "[Parallel(n_jobs=4)]: Done   4 out of   4 | elapsed:    4.4s finished\n",
      "[Parallel(n_jobs=4)]: Done   2 out of   4 | elapsed:   12.8s remaining:   12.8s\n",
      "[Parallel(n_jobs=4)]: Done   4 out of   4 | elapsed:   13.6s finished\n",
      "[Parallel(n_jobs=4)]: Done   2 out of   4 | elapsed:    3.2s remaining:    3.2s\n",
      "[Parallel(n_jobs=4)]: Done   4 out of   4 | elapsed:    4.4s finished\n",
      "[Parallel(n_jobs=4)]: Done   2 out of   4 | elapsed:    3.9s remaining:    3.9s\n",
      "[Parallel(n_jobs=4)]: Done   4 out of   4 | elapsed:    5.0s finished\n",
      "[Parallel(n_jobs=4)]: Done   2 out of   4 | elapsed:    3.8s remaining:    3.8s\n",
      "[Parallel(n_jobs=4)]: Done   4 out of   4 | elapsed:    5.0s finished\n",
      "[Parallel(n_jobs=4)]: Done   2 out of   4 | elapsed:    3.4s remaining:    3.4s\n",
      "[Parallel(n_jobs=4)]: Done   4 out of   4 | elapsed:    4.7s finished\n",
      "[Parallel(n_jobs=4)]: Done   2 out of   4 | elapsed:    4.4s remaining:    4.4s\n",
      "[Parallel(n_jobs=4)]: Done   4 out of   4 | elapsed:    5.9s finished\n",
      "[Parallel(n_jobs=4)]: Done   2 out of   4 | elapsed:    3.6s remaining:    3.6s\n",
      "[Parallel(n_jobs=4)]: Done   4 out of   4 | elapsed:    4.7s finished\n"
     ]
    },
    {
     "name": "stderr",
     "output_type": "stream",
     "text": [
      "[Parallel(n_jobs=4)]: Done   2 out of   4 | elapsed:    3.4s remaining:    3.4s\n",
      "[Parallel(n_jobs=4)]: Done   4 out of   4 | elapsed:    4.6s finished\n",
      "[Parallel(n_jobs=4)]: Done   2 out of   4 | elapsed:    3.6s remaining:    3.6s\n",
      "[Parallel(n_jobs=4)]: Done   4 out of   4 | elapsed:    4.7s finished\n",
      "[Parallel(n_jobs=4)]: Done   2 out of   4 | elapsed:    3.3s remaining:    3.3s\n",
      "[Parallel(n_jobs=4)]: Done   4 out of   4 | elapsed:    4.4s finished\n",
      "[Parallel(n_jobs=4)]: Done   2 out of   4 | elapsed:    3.3s remaining:    3.3s\n",
      "[Parallel(n_jobs=4)]: Done   4 out of   4 | elapsed:    4.4s finished\n",
      "[Parallel(n_jobs=4)]: Done   2 out of   4 | elapsed:    3.3s remaining:    3.3s\n",
      "[Parallel(n_jobs=4)]: Done   4 out of   4 | elapsed:    4.4s finished\n",
      "[Parallel(n_jobs=4)]: Done   2 out of   4 | elapsed:    3.1s remaining:    3.1s\n",
      "[Parallel(n_jobs=4)]: Done   4 out of   4 | elapsed:    4.3s finished\n",
      "[Parallel(n_jobs=4)]: Done   2 out of   4 | elapsed:    3.2s remaining:    3.2s\n",
      "[Parallel(n_jobs=4)]: Done   4 out of   4 | elapsed:    4.3s finished\n",
      "[Parallel(n_jobs=4)]: Done   2 out of   4 | elapsed:    3.3s remaining:    3.3s\n",
      "[Parallel(n_jobs=4)]: Done   4 out of   4 | elapsed:    4.5s finished\n",
      "[Parallel(n_jobs=4)]: Done   2 out of   4 | elapsed:    3.5s remaining:    3.5s\n",
      "[Parallel(n_jobs=4)]: Done   4 out of   4 | elapsed:    4.9s finished\n",
      "[Parallel(n_jobs=4)]: Done   2 out of   4 | elapsed:    3.4s remaining:    3.4s\n",
      "[Parallel(n_jobs=4)]: Done   4 out of   4 | elapsed:    4.7s finished\n",
      "[Parallel(n_jobs=4)]: Done   2 out of   4 | elapsed:    3.7s remaining:    3.7s\n",
      "[Parallel(n_jobs=4)]: Done   4 out of   4 | elapsed:    4.9s finished\n",
      "[Parallel(n_jobs=4)]: Done   2 out of   4 | elapsed:    3.3s remaining:    3.3s\n",
      "[Parallel(n_jobs=4)]: Done   4 out of   4 | elapsed:    4.6s finished\n",
      "[Parallel(n_jobs=4)]: Done   2 out of   4 | elapsed:    3.4s remaining:    3.4s\n",
      "[Parallel(n_jobs=4)]: Done   4 out of   4 | elapsed:    4.5s finished\n",
      "[Parallel(n_jobs=4)]: Done   2 out of   4 | elapsed:    3.9s remaining:    3.9s\n",
      "[Parallel(n_jobs=4)]: Done   4 out of   4 | elapsed:    5.0s finished\n",
      "[Parallel(n_jobs=4)]: Done   2 out of   4 | elapsed:    3.2s remaining:    3.2s\n",
      "[Parallel(n_jobs=4)]: Done   4 out of   4 | elapsed:    4.6s finished\n",
      "[Parallel(n_jobs=4)]: Done   2 out of   4 | elapsed:    3.4s remaining:    3.4s\n",
      "[Parallel(n_jobs=4)]: Done   4 out of   4 | elapsed:    4.6s finished\n",
      "[Parallel(n_jobs=4)]: Done   2 out of   4 | elapsed:    3.3s remaining:    3.3s\n",
      "[Parallel(n_jobs=4)]: Done   4 out of   4 | elapsed:    4.5s finished\n",
      "[Parallel(n_jobs=4)]: Done   2 out of   4 | elapsed:    3.3s remaining:    3.3s\n",
      "[Parallel(n_jobs=4)]: Done   4 out of   4 | elapsed:    4.5s finished\n",
      "[Parallel(n_jobs=4)]: Done   2 out of   4 | elapsed:    3.2s remaining:    3.2s\n",
      "[Parallel(n_jobs=4)]: Done   4 out of   4 | elapsed:    4.4s finished\n",
      "[Parallel(n_jobs=4)]: Done   2 out of   4 | elapsed:    3.7s remaining:    3.7s\n",
      "[Parallel(n_jobs=4)]: Done   4 out of   4 | elapsed:    4.8s finished\n"
     ]
    },
    {
     "name": "stdout",
     "output_type": "stream",
     "text": [
      "AdaBoost Score :  0.9897399847860748\n"
     ]
    },
    {
     "name": "stderr",
     "output_type": "stream",
     "text": [
      "[Parallel(n_jobs=4)]: Done   2 out of   4 | elapsed:    2.8s remaining:    2.8s\n",
      "[Parallel(n_jobs=4)]: Done   4 out of   4 | elapsed:    3.9s finished\n",
      "[Parallel(n_jobs=4)]: Done   2 out of   4 | elapsed:    2.8s remaining:    2.8s\n",
      "[Parallel(n_jobs=4)]: Done   4 out of   4 | elapsed:    3.9s finished\n",
      "[Parallel(n_jobs=4)]: Done   2 out of   4 | elapsed:    2.7s remaining:    2.7s\n",
      "[Parallel(n_jobs=4)]: Done   4 out of   4 | elapsed:    3.8s finished\n",
      "[Parallel(n_jobs=4)]: Done   2 out of   4 | elapsed:    2.7s remaining:    2.7s\n",
      "[Parallel(n_jobs=4)]: Done   4 out of   4 | elapsed:    3.9s finished\n",
      "[Parallel(n_jobs=4)]: Done   2 out of   4 | elapsed:    2.9s remaining:    2.9s\n",
      "[Parallel(n_jobs=4)]: Done   4 out of   4 | elapsed:    4.0s finished\n",
      "[Parallel(n_jobs=4)]: Done   2 out of   4 | elapsed:    2.6s remaining:    2.6s\n",
      "[Parallel(n_jobs=4)]: Done   4 out of   4 | elapsed:    3.8s finished\n",
      "[Parallel(n_jobs=4)]: Done   2 out of   4 | elapsed:    2.7s remaining:    2.7s\n",
      "[Parallel(n_jobs=4)]: Done   4 out of   4 | elapsed:    3.9s finished\n",
      "[Parallel(n_jobs=4)]: Done   2 out of   4 | elapsed:    2.7s remaining:    2.7s\n",
      "[Parallel(n_jobs=4)]: Done   4 out of   4 | elapsed:    3.8s finished\n",
      "[Parallel(n_jobs=4)]: Done   2 out of   4 | elapsed:    2.8s remaining:    2.8s\n",
      "[Parallel(n_jobs=4)]: Done   4 out of   4 | elapsed:    4.0s finished\n",
      "[Parallel(n_jobs=4)]: Done   2 out of   4 | elapsed:    2.9s remaining:    2.9s\n",
      "[Parallel(n_jobs=4)]: Done   4 out of   4 | elapsed:    4.2s finished\n",
      "[Parallel(n_jobs=4)]: Done   2 out of   4 | elapsed:    2.8s remaining:    2.8s\n",
      "[Parallel(n_jobs=4)]: Done   4 out of   4 | elapsed:    3.9s finished\n",
      "[Parallel(n_jobs=4)]: Done   2 out of   4 | elapsed:    2.6s remaining:    2.6s\n",
      "[Parallel(n_jobs=4)]: Done   4 out of   4 | elapsed:    3.8s finished\n",
      "[Parallel(n_jobs=4)]: Done   2 out of   4 | elapsed:    3.1s remaining:    3.1s\n",
      "[Parallel(n_jobs=4)]: Done   4 out of   4 | elapsed:    4.3s finished\n",
      "[Parallel(n_jobs=4)]: Done   2 out of   4 | elapsed:    3.0s remaining:    3.0s\n",
      "[Parallel(n_jobs=4)]: Done   4 out of   4 | elapsed:    4.1s finished\n",
      "[Parallel(n_jobs=4)]: Done   2 out of   4 | elapsed:    2.8s remaining:    2.8s\n",
      "[Parallel(n_jobs=4)]: Done   4 out of   4 | elapsed:    4.1s finished\n",
      "[Parallel(n_jobs=4)]: Done   2 out of   4 | elapsed:    2.6s remaining:    2.6s\n",
      "[Parallel(n_jobs=4)]: Done   4 out of   4 | elapsed:    3.7s finished\n",
      "[Parallel(n_jobs=4)]: Done   2 out of   4 | elapsed:    2.7s remaining:    2.7s\n",
      "[Parallel(n_jobs=4)]: Done   4 out of   4 | elapsed:    3.8s finished\n",
      "[Parallel(n_jobs=4)]: Done   2 out of   4 | elapsed:    2.6s remaining:    2.6s\n",
      "[Parallel(n_jobs=4)]: Done   4 out of   4 | elapsed:    3.7s finished\n",
      "[Parallel(n_jobs=4)]: Done   2 out of   4 | elapsed:    2.7s remaining:    2.7s\n",
      "[Parallel(n_jobs=4)]: Done   4 out of   4 | elapsed:    3.8s finished\n",
      "[Parallel(n_jobs=4)]: Done   2 out of   4 | elapsed:    2.6s remaining:    2.6s\n",
      "[Parallel(n_jobs=4)]: Done   4 out of   4 | elapsed:    3.7s finished\n",
      "[Parallel(n_jobs=4)]: Done   2 out of   4 | elapsed:    2.6s remaining:    2.6s\n",
      "[Parallel(n_jobs=4)]: Done   4 out of   4 | elapsed:    3.8s finished\n",
      "[Parallel(n_jobs=4)]: Done   2 out of   4 | elapsed:    2.7s remaining:    2.7s\n",
      "[Parallel(n_jobs=4)]: Done   4 out of   4 | elapsed:    4.0s finished\n",
      "[Parallel(n_jobs=4)]: Done   2 out of   4 | elapsed:    2.8s remaining:    2.8s\n",
      "[Parallel(n_jobs=4)]: Done   4 out of   4 | elapsed:    4.1s finished\n",
      "[Parallel(n_jobs=4)]: Done   2 out of   4 | elapsed:    2.9s remaining:    2.9s\n",
      "[Parallel(n_jobs=4)]: Done   4 out of   4 | elapsed:    4.2s finished\n",
      "[Parallel(n_jobs=4)]: Done   2 out of   4 | elapsed:    2.9s remaining:    2.9s\n",
      "[Parallel(n_jobs=4)]: Done   4 out of   4 | elapsed:    4.2s finished\n"
     ]
    }
   ],
   "source": [
    "br_est = BaggingRegressor(DecisionTreeRegressor(max_depth=9), n_jobs=-1, random_state=42, n_estimators=25, verbose=1)\n",
    "abr_est = AdaBoostRegressor(br_est, n_estimators=25, learning_rate=.45)\n",
    "abr_est.fit(trans_vec, ytrain.values)\n",
    "print('AdaBoost Score : ', abr_est.score(trans_vec, ytrain.values))\n",
    "preds = abr_est.predict(test_fu_vec)\n",
    "conv2df(preds).to_csv('data/output/adaboost_regressor.csv', index=False)"
   ]
  },
  {
   "cell_type": "code",
   "execution_count": 32,
   "metadata": {},
   "outputs": [],
   "source": [
    "# Ref.: http://zacstewart.com/2014/08/05/pipelines-of-featureunions-of-pipelines.html\n",
    "class ModelTransformer(TransformerMixin):\n",
    "\n",
    "    def __init__(self, model):\n",
    "        self.model = model\n",
    "\n",
    "    def fit(self, *args, **kwargs):\n",
    "        self.model.fit(*args, **kwargs)\n",
    "        return self\n",
    "\n",
    "    def transform(self, X, **transform_params):\n",
    "        return pd.DataFrame(self.model.predict(X))"
   ]
  },
  {
   "cell_type": "code",
   "execution_count": 52,
   "metadata": {},
   "outputs": [],
   "source": [
    "dtr = DecisionTreeRegressor(random_state=42)\n",
    "br_est = BaggingRegressor(dtr, n_jobs=-1, random_state=42)\n",
    "gbr_est = GradientBoostingRegressor(random_state=42, n_estimators=100, learning_rate=0.25, max_depth=7)\n",
    "knr = KNeighborsRegressor(n_neighbors=5)\n",
    "\n",
    "efu = FeatureUnion([\n",
    "        ('knn', ModelTransformer(knr)),\n",
    "        ('gbr', ModelTransformer(gbr_est)),\n",
    "        ('br', ModelTransformer(br_est)),\n",
    "#         ('etr', ModelTransformer(ExtraTreesRegressor())),\n",
    "#         ('rfr', ModelTransformer(RandomForestRegressor())),\n",
    "#         ('par', ModelTransformer(PassiveAggressiveRegressor())),\n",
    "#         ('en', ModelTransformer(ElasticNet())),\n",
    "#         ('cluster', ModelTransformer(KMeans(n_clusters=2)))\n",
    "    ])\n",
    "\n",
    "pipe_est = Pipeline([\n",
    "    ('estimators', efu),\n",
    "    ('estimator', KNeighborsRegressor(n_neighbors=1))\n",
    "])"
   ]
  },
  {
   "cell_type": "code",
   "execution_count": 53,
   "metadata": {},
   "outputs": [
    {
     "data": {
      "text/plain": [
       "Pipeline(memory=None,\n",
       "     steps=[('estimators', FeatureUnion(n_jobs=1,\n",
       "       transformer_list=[('knn', <__main__.ModelTransformer object at 0x00000196BF1EDE48>), ('gbr', <__main__.ModelTransformer object at 0x00000196BF1ED6A0>), ('br', <__main__.ModelTransformer object at 0x00000196BF1EDE80>)],\n",
       "       transformer_weights=None)), ('estimator', KNeighborsRegressor(algorithm='auto', leaf_size=30, metric='minkowski',\n",
       "          metric_params=None, n_jobs=1, n_neighbors=1, p=2,\n",
       "          weights='uniform'))])"
      ]
     },
     "execution_count": 53,
     "metadata": {},
     "output_type": "execute_result"
    }
   ],
   "source": [
    "pipe_est.fit(trans_vec, ytrain.values)"
   ]
  },
  {
   "cell_type": "code",
   "execution_count": 51,
   "metadata": {},
   "outputs": [],
   "source": [
    "preds = pipe_est.predict(test_fu_vec)\n",
    "conv2df(preds).to_csv('data/output/ensembles.csv', index=False)"
   ]
  },
  {
   "cell_type": "code",
   "execution_count": null,
   "metadata": {},
   "outputs": [],
   "source": []
  },
  {
   "cell_type": "code",
   "execution_count": null,
   "metadata": {},
   "outputs": [],
   "source": []
  }
 ],
 "metadata": {
  "kernelspec": {
   "display_name": "Python 3",
   "language": "python",
   "name": "python3"
  },
  "language_info": {
   "codemirror_mode": {
    "name": "ipython",
    "version": 3
   },
   "file_extension": ".py",
   "mimetype": "text/x-python",
   "name": "python",
   "nbconvert_exporter": "python",
   "pygments_lexer": "ipython3",
   "version": "3.6.6"
  }
 },
 "nbformat": 4,
 "nbformat_minor": 2
}
