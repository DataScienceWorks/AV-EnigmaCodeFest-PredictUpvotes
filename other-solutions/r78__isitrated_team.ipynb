{
 "cells": [
  {
   "cell_type": "code",
   "execution_count": 1,
   "metadata": {},
   "outputs": [],
   "source": [
    "import pandas as pd\n",
    "import math\n",
    "import numpy as np\n",
    "import matplotlib.pyplot as plt\n",
    "from sklearn.ensemble import RandomForestRegressor\n",
    "from sklearn.preprocessing import Normalizer\n",
    "from sklearn.model_selection import cross_val_score\n",
    "from sklearn.preprocessing import StandardScaler\n",
    "from sklearn.model_selection import train_test_split\n",
    "from sklearn.metrics import mean_squared_error\n",
    "from sklearn.linear_model import Ridge\n",
    "from sklearn.preprocessing import PolynomialFeatures\n",
    "from sklearn.pipeline import make_pipeline"
   ]
  },
  {
   "cell_type": "code",
   "execution_count": 28,
   "metadata": {},
   "outputs": [],
   "source": [
    "data = pd.read_csv('train_NIR5Yl1(1).csv')\n",
    "tes_d = pd.read_csv('test_8i3B3FC(1).csv')"
   ]
  },
  {
   "cell_type": "code",
   "execution_count": 53,
   "metadata": {},
   "outputs": [],
   "source": [
    "def stats(u):\n",
    "    print(u.mean(),u.std(),u.var(),u.min(),u.max())"
   ]
  },
  {
   "cell_type": "code",
   "execution_count": 26,
   "metadata": {},
   "outputs": [],
   "source": [
    "ct=100"
   ]
  },
  {
   "cell_type": "code",
   "execution_count": 4,
   "metadata": {
    "scrolled": true
   },
   "outputs": [
    {
     "data": {
      "text/html": [
       "<div>\n",
       "<style scoped>\n",
       "    .dataframe tbody tr th:only-of-type {\n",
       "        vertical-align: middle;\n",
       "    }\n",
       "\n",
       "    .dataframe tbody tr th {\n",
       "        vertical-align: top;\n",
       "    }\n",
       "\n",
       "    .dataframe thead th {\n",
       "        text-align: right;\n",
       "    }\n",
       "</style>\n",
       "<table border=\"1\" class=\"dataframe\">\n",
       "  <thead>\n",
       "    <tr style=\"text-align: right;\">\n",
       "      <th></th>\n",
       "      <th>ID</th>\n",
       "      <th>Tag</th>\n",
       "      <th>Reputation</th>\n",
       "      <th>Answers</th>\n",
       "      <th>Username</th>\n",
       "      <th>Views</th>\n",
       "      <th>Upvotes</th>\n",
       "    </tr>\n",
       "  </thead>\n",
       "  <tbody>\n",
       "    <tr>\n",
       "      <th>0</th>\n",
       "      <td>52664</td>\n",
       "      <td>a</td>\n",
       "      <td>3942.0</td>\n",
       "      <td>2.0</td>\n",
       "      <td>155623</td>\n",
       "      <td>7855.0</td>\n",
       "      <td>42.0</td>\n",
       "    </tr>\n",
       "    <tr>\n",
       "      <th>1</th>\n",
       "      <td>327662</td>\n",
       "      <td>a</td>\n",
       "      <td>26046.0</td>\n",
       "      <td>12.0</td>\n",
       "      <td>21781</td>\n",
       "      <td>55801.0</td>\n",
       "      <td>1175.0</td>\n",
       "    </tr>\n",
       "    <tr>\n",
       "      <th>2</th>\n",
       "      <td>468453</td>\n",
       "      <td>c</td>\n",
       "      <td>1358.0</td>\n",
       "      <td>4.0</td>\n",
       "      <td>56177</td>\n",
       "      <td>8067.0</td>\n",
       "      <td>60.0</td>\n",
       "    </tr>\n",
       "    <tr>\n",
       "      <th>3</th>\n",
       "      <td>96996</td>\n",
       "      <td>a</td>\n",
       "      <td>264.0</td>\n",
       "      <td>3.0</td>\n",
       "      <td>168793</td>\n",
       "      <td>27064.0</td>\n",
       "      <td>9.0</td>\n",
       "    </tr>\n",
       "    <tr>\n",
       "      <th>4</th>\n",
       "      <td>131465</td>\n",
       "      <td>c</td>\n",
       "      <td>4271.0</td>\n",
       "      <td>4.0</td>\n",
       "      <td>112223</td>\n",
       "      <td>13986.0</td>\n",
       "      <td>83.0</td>\n",
       "    </tr>\n",
       "  </tbody>\n",
       "</table>\n",
       "</div>"
      ],
      "text/plain": [
       "       ID Tag  Reputation  Answers  Username    Views  Upvotes\n",
       "0   52664   a      3942.0      2.0    155623   7855.0     42.0\n",
       "1  327662   a     26046.0     12.0     21781  55801.0   1175.0\n",
       "2  468453   c      1358.0      4.0     56177   8067.0     60.0\n",
       "3   96996   a       264.0      3.0    168793  27064.0      9.0\n",
       "4  131465   c      4271.0      4.0    112223  13986.0     83.0"
      ]
     },
     "execution_count": 4,
     "metadata": {},
     "output_type": "execute_result"
    }
   ],
   "source": [
    "data.head()"
   ]
  },
  {
   "cell_type": "code",
   "execution_count": 5,
   "metadata": {},
   "outputs": [
    {
     "data": {
      "text/html": [
       "<div>\n",
       "<style scoped>\n",
       "    .dataframe tbody tr th:only-of-type {\n",
       "        vertical-align: middle;\n",
       "    }\n",
       "\n",
       "    .dataframe tbody tr th {\n",
       "        vertical-align: top;\n",
       "    }\n",
       "\n",
       "    .dataframe thead th {\n",
       "        text-align: right;\n",
       "    }\n",
       "</style>\n",
       "<table border=\"1\" class=\"dataframe\">\n",
       "  <thead>\n",
       "    <tr style=\"text-align: right;\">\n",
       "      <th></th>\n",
       "      <th>ID</th>\n",
       "      <th>Reputation</th>\n",
       "      <th>Answers</th>\n",
       "      <th>Username</th>\n",
       "      <th>Views</th>\n",
       "      <th>Upvotes</th>\n",
       "    </tr>\n",
       "  </thead>\n",
       "  <tbody>\n",
       "    <tr>\n",
       "      <th>count</th>\n",
       "      <td>330045.000000</td>\n",
       "      <td>3.300450e+05</td>\n",
       "      <td>330045.000000</td>\n",
       "      <td>330045.000000</td>\n",
       "      <td>3.300450e+05</td>\n",
       "      <td>330045.000000</td>\n",
       "    </tr>\n",
       "    <tr>\n",
       "      <th>mean</th>\n",
       "      <td>235748.682789</td>\n",
       "      <td>7.773147e+03</td>\n",
       "      <td>3.917672</td>\n",
       "      <td>81442.888803</td>\n",
       "      <td>2.964507e+04</td>\n",
       "      <td>337.505358</td>\n",
       "    </tr>\n",
       "    <tr>\n",
       "      <th>std</th>\n",
       "      <td>136039.418471</td>\n",
       "      <td>2.706141e+04</td>\n",
       "      <td>3.579515</td>\n",
       "      <td>49215.100730</td>\n",
       "      <td>8.095646e+04</td>\n",
       "      <td>3592.441135</td>\n",
       "    </tr>\n",
       "    <tr>\n",
       "      <th>min</th>\n",
       "      <td>1.000000</td>\n",
       "      <td>0.000000e+00</td>\n",
       "      <td>0.000000</td>\n",
       "      <td>0.000000</td>\n",
       "      <td>9.000000e+00</td>\n",
       "      <td>0.000000</td>\n",
       "    </tr>\n",
       "    <tr>\n",
       "      <th>25%</th>\n",
       "      <td>117909.000000</td>\n",
       "      <td>2.820000e+02</td>\n",
       "      <td>2.000000</td>\n",
       "      <td>39808.000000</td>\n",
       "      <td>2.594000e+03</td>\n",
       "      <td>8.000000</td>\n",
       "    </tr>\n",
       "    <tr>\n",
       "      <th>50%</th>\n",
       "      <td>235699.000000</td>\n",
       "      <td>1.236000e+03</td>\n",
       "      <td>3.000000</td>\n",
       "      <td>79010.000000</td>\n",
       "      <td>8.954000e+03</td>\n",
       "      <td>28.000000</td>\n",
       "    </tr>\n",
       "    <tr>\n",
       "      <th>75%</th>\n",
       "      <td>353620.000000</td>\n",
       "      <td>5.118000e+03</td>\n",
       "      <td>5.000000</td>\n",
       "      <td>122559.000000</td>\n",
       "      <td>2.687000e+04</td>\n",
       "      <td>107.000000</td>\n",
       "    </tr>\n",
       "    <tr>\n",
       "      <th>max</th>\n",
       "      <td>471493.000000</td>\n",
       "      <td>1.042428e+06</td>\n",
       "      <td>76.000000</td>\n",
       "      <td>175738.000000</td>\n",
       "      <td>5.231058e+06</td>\n",
       "      <td>615278.000000</td>\n",
       "    </tr>\n",
       "  </tbody>\n",
       "</table>\n",
       "</div>"
      ],
      "text/plain": [
       "                  ID    Reputation        Answers       Username  \\\n",
       "count  330045.000000  3.300450e+05  330045.000000  330045.000000   \n",
       "mean   235748.682789  7.773147e+03       3.917672   81442.888803   \n",
       "std    136039.418471  2.706141e+04       3.579515   49215.100730   \n",
       "min         1.000000  0.000000e+00       0.000000       0.000000   \n",
       "25%    117909.000000  2.820000e+02       2.000000   39808.000000   \n",
       "50%    235699.000000  1.236000e+03       3.000000   79010.000000   \n",
       "75%    353620.000000  5.118000e+03       5.000000  122559.000000   \n",
       "max    471493.000000  1.042428e+06      76.000000  175738.000000   \n",
       "\n",
       "              Views        Upvotes  \n",
       "count  3.300450e+05  330045.000000  \n",
       "mean   2.964507e+04     337.505358  \n",
       "std    8.095646e+04    3592.441135  \n",
       "min    9.000000e+00       0.000000  \n",
       "25%    2.594000e+03       8.000000  \n",
       "50%    8.954000e+03      28.000000  \n",
       "75%    2.687000e+04     107.000000  \n",
       "max    5.231058e+06  615278.000000  "
      ]
     },
     "execution_count": 5,
     "metadata": {},
     "output_type": "execute_result"
    }
   ],
   "source": [
    "data.describe()"
   ]
  },
  {
   "cell_type": "code",
   "execution_count": 6,
   "metadata": {},
   "outputs": [],
   "source": [
    "data.corr()\n",
    "\n",
    "tesd = tes_d.drop(columns = ['ID', 'Username'])"
   ]
  },
  {
   "cell_type": "code",
   "execution_count": 7,
   "metadata": {},
   "outputs": [],
   "source": [
    "dat = data.drop(columns = ['ID', 'Username'])"
   ]
  },
  {
   "cell_type": "code",
   "execution_count": 8,
   "metadata": {},
   "outputs": [
    {
     "name": "stdout",
     "output_type": "stream",
     "text": [
      "[['a' 3942.0 2.0 7855.0 42.0]\n",
      " ['a' 26046.0 12.0 55801.0 1175.0]\n",
      " ['c' 1358.0 4.0 8067.0 60.0]\n",
      " ...\n",
      " ['c' 6178.0 2.0 2453.0 15.0]\n",
      " ['j' 89.0 2.0 2107.0 3.0]\n",
      " ['j' 2001.0 4.0 2554.0 37.0]]\n"
     ]
    }
   ],
   "source": [
    "val = dat.values\n",
    "X_t = tesd.values\n",
    "print(val)"
   ]
  },
  {
   "cell_type": "code",
   "execution_count": 9,
   "metadata": {},
   "outputs": [],
   "source": [
    "X = val[:,[0,1,2,3]]\n",
    "y = val[:,4]\n",
    "X_t = X_t[:,[0,1,2,3]]"
   ]
  },
  {
   "cell_type": "code",
   "execution_count": 10,
   "metadata": {},
   "outputs": [
    {
     "data": {
      "text/plain": [
       "((141448, 4), (330045, 4))"
      ]
     },
     "execution_count": 10,
     "metadata": {},
     "output_type": "execute_result"
    }
   ],
   "source": [
    "X_t.shape,X.shape"
   ]
  },
  {
   "cell_type": "code",
   "execution_count": 11,
   "metadata": {},
   "outputs": [],
   "source": [
    "def poly(x,k):\n",
    "    temp = np.array(x)\n",
    "    for i in range(0,k):\n",
    "        if i ==1:\n",
    "            continue\n",
    "        temp = np.concatenate((temp,np.power(x,i)), axis = 1)\n",
    "    return temp"
   ]
  },
  {
   "cell_type": "code",
   "execution_count": 12,
   "metadata": {},
   "outputs": [],
   "source": [
    "m = {}\n",
    "s = set([i for i in data[\"Tag\"]])\n",
    "tag_wise = {}\n",
    "for i in s:\n",
    "    temp = [data['Upvotes'][j] for j in range(len(data['Tag'])) if data['Tag'][j] == i]\n",
    "    tag_wise[i] = temp\n",
    "    m[i] = sum(temp)/len(temp)"
   ]
  },
  {
   "cell_type": "code",
   "execution_count": 13,
   "metadata": {},
   "outputs": [],
   "source": [
    "for i in range(len(X)):\n",
    "    X[i][0] = m[X[i][0]]"
   ]
  },
  {
   "cell_type": "code",
   "execution_count": 14,
   "metadata": {},
   "outputs": [],
   "source": [
    "for i in range(len(X_t)):\n",
    "    X_t[i][0] = m[X_t[i][0]]"
   ]
  },
  {
   "cell_type": "code",
   "execution_count": 15,
   "metadata": {},
   "outputs": [],
   "source": [
    "st = {}\n",
    "for i in s:\n",
    "    st[i] = np.asarray(tag_wise[i]).std()"
   ]
  },
  {
   "cell_type": "code",
   "execution_count": 16,
   "metadata": {},
   "outputs": [],
   "source": [
    "temp = np.array([st[i] for i in data[\"Tag\"]])\n",
    "t = np.array([np.concatenate((X[i],np.array([temp[i]]))) for i in range(len(temp))])\n",
    "X = t"
   ]
  },
  {
   "cell_type": "code",
   "execution_count": 17,
   "metadata": {},
   "outputs": [],
   "source": [
    "temp = np.array([st[i] for i in tesd[\"Tag\"]])\n",
    "t = np.array([np.concatenate((X_t[i],np.array([temp[i]]))) for i in range(len(temp))])\n",
    "X_t = t"
   ]
  },
  {
   "cell_type": "code",
   "execution_count": 18,
   "metadata": {},
   "outputs": [
    {
     "data": {
      "text/plain": [
       "((141448, 5), (330045, 5), (330045,))"
      ]
     },
     "execution_count": 18,
     "metadata": {},
     "output_type": "execute_result"
    }
   ],
   "source": [
    "X_t.shape,X.shape,y.shape"
   ]
  },
  {
   "cell_type": "code",
   "execution_count": 57,
   "metadata": {},
   "outputs": [],
   "source": [
    "X_train = poly(X,11)"
   ]
  },
  {
   "cell_type": "code",
   "execution_count": 58,
   "metadata": {},
   "outputs": [],
   "source": [
    "X_test = poly(X_t,11)"
   ]
  },
  {
   "cell_type": "code",
   "execution_count": 59,
   "metadata": {},
   "outputs": [
    {
     "data": {
      "text/plain": [
       "((330045, 55), (141448, 55))"
      ]
     },
     "execution_count": 59,
     "metadata": {},
     "output_type": "execute_result"
    }
   ],
   "source": [
    "X_train.shape,X_test.shape"
   ]
  },
  {
   "cell_type": "code",
   "execution_count": 60,
   "metadata": {},
   "outputs": [
    {
     "data": {
      "text/plain": [
       "(array([316.4601356680864, 3942.0, 2.0, 7855.0, 3106.245093052999, 1.0,\n",
       "        1.0, 1.0, 1.0, 1.0, 100147.01746706366, 15539364.0, 4.0,\n",
       "        61701025.0, 9648758.578115834, 31692538.734381188, 61256172888.0,\n",
       "        8.0, 484661551375.0, 29971408987.32534, 10029425107.548355,\n",
       "        241471833524496.0, 16.0, 3807016486050625.0, 93098542098763.89,\n",
       "        3173913230207.6646, 9.518819677535633e+17, 32.0,\n",
       "        2.990411449792766e+19, 2.891868895646734e+17, 1004417011430252.0,\n",
       "        3.7523187168845465e+21, 64.0, 2.3489681938122178e+23,\n",
       "        8.982853566855263e+20, 3.178579437045514e+17,\n",
       "        1.4791640381958882e+25, 128.0, 1.845114516239497e+27,\n",
       "        2.790294481365779e+24, 1.0058936798792132e+20,\n",
       "        5.830864638568191e+28, 256.0, 1.4493374525061248e+31,\n",
       "        8.667338540915313e+27, 3.183252504022465e+22,\n",
       "        2.298526840523581e+32, 512.0, 1.138454568943561e+35,\n",
       "        2.6922877812547334e+31, 1.0073725192887253e+25,\n",
       "        9.060792805343956e+35, 1024.0, 8.942560639051673e+38,\n",
       "        8.362905709609062e+34], dtype=object),\n",
       " array([316.4601356680864, 5645.0, 3.0, 33200.0, 3106.245093052999, 1.0,\n",
       "        1.0, 1.0, 1.0, 1.0, 100147.01746706366, 31866025.0, 9.0,\n",
       "        1102240000.0, 9648758.578115834, 31692538.734381188,\n",
       "        179883711125.0, 27.0, 36594368000000.0, 29971408987.32534,\n",
       "        10029425107.548355, 1015443549300625.0, 81.0, 1.2149330176e+18,\n",
       "        93098542098763.89, 3173913230207.6646, 5.732178835802028e+18,\n",
       "        243.0, 4.033577618432e+22, 2.891868895646734e+17,\n",
       "        1004417011430252.0, 3.235814952810245e+22, 729.0,\n",
       "        1.339147769319424e+27, 8.982853566855263e+20,\n",
       "        3.178579437045514e+17, 1.8266175408613834e+26, 2187.0,\n",
       "        4.445970594140488e+31, 2.790294481365779e+24,\n",
       "        1.0058936798792132e+20, 1.0311256018162508e+30, 6561.0,\n",
       "        1.476062237254642e+36, 8.667338540915313e+27,\n",
       "        3.183252504022465e+22, 5.820704022252736e+33, 19683.0,\n",
       "        4.900526627685411e+40, 2.6922877812547334e+31,\n",
       "        1.0073725192887253e+25, 3.2857874205616693e+37, 59049.0,\n",
       "        1.6269748403915565e+45, 8.362905709609062e+34], dtype=object))"
      ]
     },
     "execution_count": 60,
     "metadata": {},
     "output_type": "execute_result"
    }
   ],
   "source": [
    "X_train[0],X_test[0]"
   ]
  },
  {
   "cell_type": "code",
   "execution_count": 61,
   "metadata": {},
   "outputs": [
    {
     "name": "stderr",
     "output_type": "stream",
     "text": [
      "/Users/kk3799/anaconda3/lib/python3.6/site-packages/sklearn/utils/validation.py:475: DataConversionWarning: Data with input dtype object was converted to float64 by StandardScaler.\n",
      "  warnings.warn(msg, DataConversionWarning)\n"
     ]
    }
   ],
   "source": [
    "sca = StandardScaler().fit(X_train)"
   ]
  },
  {
   "cell_type": "code",
   "execution_count": 62,
   "metadata": {},
   "outputs": [
    {
     "name": "stderr",
     "output_type": "stream",
     "text": [
      "/Users/kk3799/anaconda3/lib/python3.6/site-packages/sklearn/utils/validation.py:475: DataConversionWarning: Data with input dtype object was converted to float64 by StandardScaler.\n",
      "  warnings.warn(msg, DataConversionWarning)\n"
     ]
    }
   ],
   "source": [
    "X_tr = sca.transform(X_train)\n",
    "X_te = sca.transform(X_test)"
   ]
  },
  {
   "cell_type": "code",
   "execution_count": 63,
   "metadata": {},
   "outputs": [
    {
     "data": {
      "text/plain": [
       "RandomForestRegressor(bootstrap=True, criterion='mse', max_depth=None,\n",
       "           max_features='auto', max_leaf_nodes=None,\n",
       "           min_impurity_decrease=0.0, min_impurity_split=None,\n",
       "           min_samples_leaf=1, min_samples_split=2,\n",
       "           min_weight_fraction_leaf=0.0, n_estimators=10, n_jobs=1,\n",
       "           oob_score=False, random_state=None, verbose=0, warm_start=False)"
      ]
     },
     "execution_count": 63,
     "metadata": {},
     "output_type": "execute_result"
    }
   ],
   "source": [
    "reg = RandomForestRegressor()\n",
    "reg.fit(X_tr,y)"
   ]
  },
  {
   "cell_type": "code",
   "execution_count": 64,
   "metadata": {},
   "outputs": [
    {
     "data": {
      "text/plain": [
       "array([0.87072109, 0.88068535, 0.7713854 ])"
      ]
     },
     "execution_count": 64,
     "metadata": {},
     "output_type": "execute_result"
    }
   ],
   "source": [
    "cross_val_score(reg,X_tr,y)"
   ]
  },
  {
   "cell_type": "code",
   "execution_count": 65,
   "metadata": {},
   "outputs": [],
   "source": [
    "ans = reg.predict(X_te)"
   ]
  },
  {
   "cell_type": "code",
   "execution_count": 66,
   "metadata": {},
   "outputs": [
    {
     "name": "stdout",
     "output_type": "stream",
     "text": [
      "347.1986729482953 3393.879328853843 11518416.898821412 0.0 422410.0\n",
      "337.5053583602236 3592.4356928045213 12905594.2069359 0.0 615278.0\n"
     ]
    },
    {
     "data": {
      "text/plain": [
       "(None, None)"
      ]
     },
     "execution_count": 66,
     "metadata": {},
     "output_type": "execute_result"
    }
   ],
   "source": [
    "stats(ans),stats(y)\n"
   ]
  },
  {
   "cell_type": "code",
   "execution_count": 67,
   "metadata": {},
   "outputs": [],
   "source": [
    "out = pd.DataFrame({'ID':tes_d['ID'],'Upvotes':ans})\n",
    "out.to_csv(\"sub\"+str(ct)+\".csv\",index = 0)\n",
    "ct+=1"
   ]
  },
  {
   "cell_type": "code",
   "execution_count": null,
   "metadata": {},
   "outputs": [],
   "source": []
  }
 ],
 "metadata": {
  "kernelspec": {
   "display_name": "Python 3",
   "language": "python",
   "name": "python3"
  },
  "language_info": {
   "codemirror_mode": {
    "name": "ipython",
    "version": 3
   },
   "file_extension": ".py",
   "mimetype": "text/x-python",
   "name": "python",
   "nbconvert_exporter": "python",
   "pygments_lexer": "ipython3",
   "version": "3.6.2"
  }
 },
 "nbformat": 4,
 "nbformat_minor": 2
}
