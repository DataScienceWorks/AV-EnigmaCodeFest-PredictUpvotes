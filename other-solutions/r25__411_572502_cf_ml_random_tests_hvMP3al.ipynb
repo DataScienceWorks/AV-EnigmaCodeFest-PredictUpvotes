{
 "cells": [
  {
   "cell_type": "code",
   "execution_count": 1,
   "metadata": {},
   "outputs": [
    {
     "name": "stderr",
     "output_type": "stream",
     "text": [
      "C:\\Users\\Arihant\\Anaconda3\\lib\\site-packages\\h5py\\__init__.py:36: FutureWarning: Conversion of the second argument of issubdtype from `float` to `np.floating` is deprecated. In future, it will be treated as `np.float64 == np.dtype(float).type`.\n",
      "  from ._conv import register_converters as _register_converters\n",
      "Using TensorFlow backend.\n"
     ]
    }
   ],
   "source": [
    "import numpy as np\n",
    "import pandas as pd\n",
    "\n",
    "from sklearn.model_selection import cross_val_score\n",
    "from sklearn.model_selection import KFold\n",
    "from sklearn.preprocessing import StandardScaler\n",
    "from sklearn.preprocessing import OneHotEncoder\n",
    "from sklearn.metrics import mean_squared_error, make_scorer\n",
    "from sklearn.pipeline import Pipeline\n",
    "from sklearn.svm import SVR\n",
    "from sklearn.ensemble import GradientBoostingRegressor\n",
    "from sklearn.ensemble import RandomForestRegressor\n",
    "from sklearn.ensemble import AdaBoostRegressor\n",
    "from sklearn.model_selection import train_test_split\n",
    "from sklearn.model_selection import GridSearchCV\n",
    "\n",
    "from sklearn.preprocessing import PolynomialFeatures\n",
    "from sklearn.linear_model import LinearRegression\n",
    "\n",
    "from keras.models import Sequential\n",
    "from keras.layers import Dense\n",
    "from keras.wrappers.scikit_learn import KerasRegressor\n",
    "\n",
    "from collections import Counter"
   ]
  },
  {
   "cell_type": "code",
   "execution_count": 2,
   "metadata": {},
   "outputs": [],
   "source": [
    "seed = 9\n",
    "np.random.seed(seed)\n",
    "\n",
    "data = pd.read_csv(\"train_NIR5Yl1.csv\")\n"
   ]
  },
  {
   "cell_type": "code",
   "execution_count": 3,
   "metadata": {},
   "outputs": [],
   "source": [
    "data_to_use = data.drop(['ID','Tag','Username'],axis = 1)\n",
    "\n",
    "# one_hot_tag = pd.get_dummies(data['Tag'])\n",
    "# data_to_use = pd.concat([one_hot_tag,data_to_use], axis=1).drop(['a'], axis=1)\n"
   ]
  },
  {
   "cell_type": "code",
   "execution_count": 4,
   "metadata": {},
   "outputs": [],
   "source": [
    "X = data_to_use.iloc[:,:-1]\n",
    "Y = data_to_use.iloc[:,-1]\n",
    "X_train, X_test, Y_train, Y_test = train_test_split(X, Y, test_size=0.2, random_state = 99)"
   ]
  },
  {
   "cell_type": "code",
   "execution_count": 5,
   "metadata": {},
   "outputs": [],
   "source": [
    "regressors = {}\n",
    "regressors['gbr'] = GradientBoostingRegressor(n_estimators=128, learning_rate=0.1, max_depth=3, random_state=0)"
   ]
  },
  {
   "cell_type": "code",
   "execution_count": 6,
   "metadata": {},
   "outputs": [
    {
     "name": "stdout",
     "output_type": "stream",
     "text": [
      "Train RMSE: 967.9888603288991\n",
      "Test RMSE: 928.3141273058224\n"
     ]
    }
   ],
   "source": [
    "# poly regression\n",
    "estimators3 = []\n",
    "estimators3.append(('standardize', StandardScaler(with_mean=False)))\n",
    "estimators3.append(('regressor', PolynomialFeatures(degree=4)))\n",
    "estimators3.append(('poly', LinearRegression()))\n",
    "pipeline3 = Pipeline(estimators3)\n",
    "\n",
    "# grid = GridSearchCV(pipeline, cv=3, n_jobs=12, param_grid=param_grid, scoring='mean_squared_error')\n",
    "# grid.fit(X_train,Y_train)\n",
    "\n",
    "# print(grid.best_score_)\n",
    "\n",
    "pipeline3.fit(X_train, Y_train)\n",
    "\n",
    "y_pred3 = pipeline3.predict(X_test)\n",
    "\n",
    "print(\"Train RMSE:\",np.sqrt(mean_squared_error(Y_train,pipeline3.predict(X_train))))\n",
    "print(\"Test RMSE:\",np.sqrt(mean_squared_error(Y_test,y_pred3)))\n"
   ]
  },
  {
   "cell_type": "code",
   "execution_count": 7,
   "metadata": {},
   "outputs": [
    {
     "name": "stdout",
     "output_type": "stream",
     "text": [
      "Train RMSE: 655.118181119385\n",
      "Test RMSE: 1172.129748662129\n"
     ]
    }
   ],
   "source": [
    "# gradient boosting\n",
    "estimators2 = []\n",
    "estimators2.append(('standardize', StandardScaler(with_mean=False)))\n",
    "estimators2.append(('regressor', regressors['gbr']))\n",
    "pipeline2 = Pipeline(estimators2)\n",
    "\n",
    "# grid = GridSearchCV(pipeline, cv=3, n_jobs=12, param_grid=param_grid, scoring='mean_squared_error')\n",
    "# grid.fit(X_train,Y_train)\n",
    "\n",
    "# print(grid.best_score_)\n",
    "\n",
    "pipeline2.fit(X_train, Y_train)\n",
    "\n",
    "y_pred2 = pipeline2.predict(X_test)\n",
    "\n",
    "print(\"Train RMSE:\",np.sqrt(mean_squared_error(Y_train,pipeline2.predict(X_train))))\n",
    "print(\"Test RMSE:\",np.sqrt(mean_squared_error(Y_test,y_pred2)))\n"
   ]
  },
  {
   "cell_type": "code",
   "execution_count": 8,
   "metadata": {},
   "outputs": [
    {
     "name": "stdout",
     "output_type": "stream",
     "text": [
      "Test RMSE: 989.1304641172596\n"
     ]
    }
   ],
   "source": [
    "ensemble = y_pred3 + y_pred2\n",
    "ensemble = ensemble/2\n",
    "print(\"Test RMSE:\",np.sqrt(mean_squared_error(Y_test,ensemble)))"
   ]
  },
  {
   "cell_type": "code",
   "execution_count": 9,
   "metadata": {},
   "outputs": [],
   "source": [
    "# # submission file generation\n",
    "test_data = pd.read_csv(\"test_8i3B3FC.csv\")\n",
    "test_data_to_use = test_data.drop(['ID','Tag','Username'],axis = 1)\n",
    "test_pred3 = pipeline3.predict(test_data_to_use)\n",
    "test_pred2 = pipeline2.predict(test_data_to_use)\n",
    "test_pred = (test_pred3+test_pred2)/2\n",
    "final_res =  pd.concat([test_data['ID'],pd.DataFrame(test_pred,  columns=['Upvotes'])], axis=1)\n",
    "final_res.to_csv('sub_poly.csv', index = False)"
   ]
  },
  {
   "cell_type": "code",
   "execution_count": null,
   "metadata": {},
   "outputs": [],
   "source": []
  }
 ],
 "metadata": {
  "kernelspec": {
   "display_name": "Python 3",
   "language": "python",
   "name": "python3"
  },
  "language_info": {
   "codemirror_mode": {
    "name": "ipython",
    "version": 3
   },
   "file_extension": ".py",
   "mimetype": "text/x-python",
   "name": "python",
   "nbconvert_exporter": "python",
   "pygments_lexer": "ipython3",
   "version": "3.6.5"
  }
 },
 "nbformat": 4,
 "nbformat_minor": 2
}
